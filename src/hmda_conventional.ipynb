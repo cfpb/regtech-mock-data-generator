{
 "cells": [
  {
   "cell_type": "code",
   "execution_count": null,
   "id": "959641f0",
   "metadata": {},
   "outputs": [],
   "source": [
    "import pandas as pd\n",
    "import utils\n",
    "import yaml\n",
    "\n",
    "from mock_data import MockDataset"
   ]
  },
  {
   "cell_type": "code",
   "execution_count": null,
   "id": "9f0737fd",
   "metadata": {},
   "outputs": [],
   "source": [
    "def mock_full_dataset(\n",
    "    yaml_file, output_filepath, output_filename, nrows: int, transmittal_sheet\n",
    "):\n",
    "    mock = MockDataset.read_yaml_spec(yaml_file)\n",
    "    mock_df = mock.generate_mock_data(nrows)\n",
    "    # Create and append check digit for the ULI field using the utils.check_digit_gen() tool\n",
    "    mock_df[\"uli\"] = mock_df[\"uli\"] + mock_df[\"uli\"].apply(\n",
    "        lambda x: utils.check_digit_gen(ULI=x)\n",
    "    )\n",
    "    # Read in the transmittal sheet\n",
    "    with open(transmittal_sheet, \"r\") as file:\n",
    "        ts = yaml.safe_load(file)\n",
    "    ts_df = pd.DataFrame(ts)\n",
    "    # Write the file out as a .txt following HMDA file format - TS as first row, LAR as subsequent rows\n",
    "    utils.write_file(\n",
    "        path=output_filepath, name=output_filename, ts_input=ts_df, lar_input=mock_df\n",
    "    )"
   ]
  },
  {
   "cell_type": "code",
   "execution_count": 35,
   "id": "5f37cc7f",
   "metadata": {},
   "outputs": [
    {
     "name": "stdout",
     "output_type": "stream",
     "text": [
      "dict_items([('id', WeightedDiscrete with sampling distribution {'2': 1}), ('lei', WeightedDiscrete with sampling distribution {'BANK1LEIFORTEST12345': 1}), ('uli', <mock_data.backends.UniqueID.UniqueID object at 0x112819590>), ('application_date', Backend with scipy distribution 'norm' and value range [1759291200, 1767157200]), ('loan_type', WeightedDiscrete with sampling distribution {'1': 1}), ('loan_purpose', WeightedDiscrete with sampling distribution {'1': 1}), ('preapproval', WeightedDiscrete with sampling distribution {'1': 1}), ('construction_method', WeightedDiscrete with sampling distribution {'1': 1}), ('occupancy_type', WeightedDiscrete with sampling distribution {'1': 1}), ('loan_amount', Backend with scipy distribution 'chi2' and value range [10000, 10000000]), ('action_taken', WeightedDiscrete with sampling distribution {'1': 1}), ('action_taken_date', WeightedDiscrete with sampling distribution {'20251231': 1}), ('street', Backend with scipy distribution 'uniform' and value range [5, 20]), ('city', Backend with scipy distribution 'uniform' and value range [5, 20]), ('state_code', WeightedDiscrete with sampling distribution {'OK': 1}), ('zip_code', WeightedDiscrete with sampling distribution {'74136': 1}), ('county_code', WeightedDiscrete with sampling distribution {'40143': 1}), ('census_tract', WeightedDiscrete with sampling distribution {'40143007647': 1}), ('applicant_ethnicity_1', WeightedDiscrete with sampling distribution {'1': 1, '11': 1, '12': 1, '13': 1, '14': 1, '2': 1}), ('applicant_ethnicity_2', WeightedDiscrete with sampling distribution {'': 1}), ('applicant_ethnicity_3', WeightedDiscrete with sampling distribution {'': 1}), ('applicant_ethnicity_4', WeightedDiscrete with sampling distribution {'': 1}), ('applicant_ethnicity_5', WeightedDiscrete with sampling distribution {'': 1}), ('applicant_ethnicity_other_hispanic', WeightedDiscrete with sampling distribution {'': 1}), ('co_applicant_ethnicity_1', WeightedDiscrete with sampling distribution {'5': 1}), ('co_applicant_ethnicity_2', WeightedDiscrete with sampling distribution {'': 1}), ('co_applicant_ethnicity_3', WeightedDiscrete with sampling distribution {'': 1}), ('co_applicant_ethnicity_4', WeightedDiscrete with sampling distribution {'': 1}), ('co_applicant_ethnicity_5', WeightedDiscrete with sampling distribution {'': 1}), ('co_applicant_ethnicity_other_hispanic', WeightedDiscrete with sampling distribution {'': 1}), ('applicant_ethnicity_observed', WeightedDiscrete with sampling distribution {'2': 1}), ('co_applicant_ethnicity_observed', WeightedDiscrete with sampling distribution {'4': 1}), ('applicant_race_1', WeightedDiscrete with sampling distribution {'1': 1, '2': 1, '21': 1, '22': 1, '23': 1, '24': 1, '25': 1, '26': 1, '27': 1, '3': 1, '4': 1, '41': 1, '42': 1, '43': 1, '44': 1, '5': 1}), ('applicant_race_2', WeightedDiscrete with sampling distribution {'': 1}), ('applicant_race_3', WeightedDiscrete with sampling distribution {'': 1}), ('applicant_race_4', WeightedDiscrete with sampling distribution {'': 1}), ('applicant_race_5', WeightedDiscrete with sampling distribution {'': 1}), ('applicant_race_other_native', WeightedDiscrete with sampling distribution {'': 1}), ('applicant_race_other_asian', WeightedDiscrete with sampling distribution {'': 1}), ('applicant_race_other_pacific', WeightedDiscrete with sampling distribution {'': 1}), ('co_applicant_race_1', WeightedDiscrete with sampling distribution {'8': 1}), ('co_applicant_race_2', WeightedDiscrete with sampling distribution {'': 1}), ('co_applicant_race_3', WeightedDiscrete with sampling distribution {'': 1}), ('co_applicant_race_4', WeightedDiscrete with sampling distribution {'': 1}), ('co_applicant_race_5', WeightedDiscrete with sampling distribution {'': 1}), ('co_applicant_race_other_native', WeightedDiscrete with sampling distribution {'': 1}), ('co_applicant_race_other_asian', WeightedDiscrete with sampling distribution {'': 1}), ('co_applicant_race_other_pacific', WeightedDiscrete with sampling distribution {'': 1}), ('applicant_race_observed', WeightedDiscrete with sampling distribution {'2': 1}), ('co_applicant_race_observed', WeightedDiscrete with sampling distribution {'4': 1}), ('applicant_sex', WeightedDiscrete with sampling distribution {'1': 1, '2': 1, '6': 1}), ('co_applicant_sex', WeightedDiscrete with sampling distribution {'5': 1}), ('applicant_sex_observed', WeightedDiscrete with sampling distribution {'2': 1}), ('co_applicant_sex_observed', WeightedDiscrete with sampling distribution {'4': 1}), ('applicant_age', Backend with scipy distribution 'norm' and value range [18, 100]), ('co_applicant_age', WeightedDiscrete with sampling distribution {'9999': 1}), ('income', Backend with scipy distribution 'norm' and value range [-100, 400]), ('purchaser_type', WeightedDiscrete with sampling distribution {'0': 1, '1': 1, '2': 1, '3': 1, '4': 1, '5': 1, '6': 1, '71': 1, '72': 1, '8': 1, '9': 1}), ('rate_spread', Backend with scipy distribution 'norm' and value range [-4, 3]), ('hoepa_status', WeightedDiscrete with sampling distribution {'1': 1, '2': 1, '3': 1}), ('lien_status', WeightedDiscrete with sampling distribution {'1': 1, '2': 1}), ('applicant_credit_score', Backend with scipy distribution 'norm' and value range [350, 1000]), ('co_applicant_credit_score', WeightedDiscrete with sampling distribution {'9999': 1}), ('applicant_credit_scoring_model', WeightedDiscrete with sampling distribution {'1': 1, '2': 1, '3': 1, '4': 1, '5': 1, '6': 1, '7': 1, '11': 1, '12': 1, '13': 1, '14': 1, '15': 1}), ('applicant_credit_scoring_model_other', WeightedDiscrete with sampling distribution {'': 1}), ('co_applicant_credit_scoring_model', WeightedDiscrete with sampling distribution {'10': 1}), ('co_applicant_credit_scoring_model_other', WeightedDiscrete with sampling distribution {'': 1}), ('denial_reason_1', WeightedDiscrete with sampling distribution {'10': 1}), ('denial_reason_2', WeightedDiscrete with sampling distribution {'': 1}), ('denial_reason_3', WeightedDiscrete with sampling distribution {'': 1}), ('denial_reason_4', WeightedDiscrete with sampling distribution {'': 1}), ('denial_reason_other', WeightedDiscrete with sampling distribution {'': 1}), ('total_loan_costs', WeightedDiscrete with sampling distribution {'NA': 1}), ('total_points_and_fees', Backend with scipy distribution 'chi2' and value range [100, 50000]), ('origination_charges', Backend with scipy distribution 'chi2' and value range [100, 25000]), ('discount_points', Backend with scipy distribution 'chi2' and value range [30, 29000]), ('lender_credits', Backend with scipy distribution 'chi2' and value range [0.1, 11000]), ('interest_rate', Backend with scipy distribution 'chi2' and value range [0.1, 12.0]), ('prepayment_penalty_term', Backend with scipy distribution 'chi2' and value range [0, 59]), ('debt_to_income_ratio', Backend with scipy distribution 'chi2' and value range [0, 58]), ('combined_loan_to_value_ratio', Backend with scipy distribution 'chi2' and value range [17, 150]), ('loan_term', Backend with scipy distribution 'chi2' and value range [60, 368]), ('intro_rate_period', Backend with scipy distribution 'chi2' and value range [1, 180]), ('balloon_payment', WeightedDiscrete with sampling distribution {'2': 1}), ('interest_only_payment', WeightedDiscrete with sampling distribution {'2': 1}), ('negative_amortization', WeightedDiscrete with sampling distribution {'2': 1}), ('other_non_amortizing_features', WeightedDiscrete with sampling distribution {'2': 1}), ('property_value', Backend with scipy distribution 'norm' and value range [60000, 3000000]), ('manufactured_home_secured_property_type', WeightedDiscrete with sampling distribution {'3': 1}), ('manufactured_home_land_property_interest', WeightedDiscrete with sampling distribution {'5': 1}), ('total_units', WeightedDiscrete with sampling distribution {'1': 1}), ('multifamily_affordable_units', WeightedDiscrete with sampling distribution {'NA': 1}), ('submission_of_application', WeightedDiscrete with sampling distribution {'1': 1, '2': 1}), ('initially_payable_to_institution', WeightedDiscrete with sampling distribution {'1': 1, '2': 1}), ('nmls_id', Backend with scipy distribution 'chi2' and value range [1000, 230000]), ('aus_1', WeightedDiscrete with sampling distribution {'6': 1}), ('aus_2', WeightedDiscrete with sampling distribution {'': 1}), ('aus_3', WeightedDiscrete with sampling distribution {'': 1}), ('aus_4', WeightedDiscrete with sampling distribution {'': 1}), ('aus_5', WeightedDiscrete with sampling distribution {'': 1}), ('aus_other', WeightedDiscrete with sampling distribution {'': 1}), ('aus_result_1', WeightedDiscrete with sampling distribution {'17': 1}), ('aus_result_2', WeightedDiscrete with sampling distribution {'': 1}), ('aus_result_3', WeightedDiscrete with sampling distribution {'': 1}), ('aus_result_4', WeightedDiscrete with sampling distribution {'': 1}), ('aus_result_5', WeightedDiscrete with sampling distribution {'': 1}), ('aus_result_other', WeightedDiscrete with sampling distribution {'': 1}), ('reverse_mortgage', WeightedDiscrete with sampling distribution {'2': 1}), ('open_end_line_of_credit', WeightedDiscrete with sampling distribution {'2': 1}), ('business_or_commercial_purpose', WeightedDiscrete with sampling distribution {'2': 1})])\n"
     ]
    }
   ],
   "source": [
    "# Run the function with your specified outputs.\n",
    "\n",
    "mock_full_dataset(\n",
    "    yaml_file=\"config/hmda_simplified_conventional.yaml\",\n",
    "    output_filepath=\"output/\",\n",
    "    output_filename=\"hmda_simplified_conventional.txt\",\n",
    "    nrows=100,  # should match the lar_count in hmda_ts.yaml\n",
    "    transmittal_sheet=\"config/hmda_ts.yaml\",\n",
    ")"
   ]
  }
 ],
 "metadata": {
  "kernelspec": {
   "display_name": ".venv",
   "language": "python",
   "name": "python3"
  },
  "language_info": {
   "codemirror_mode": {
    "name": "ipython",
    "version": 3
   },
   "file_extension": ".py",
   "mimetype": "text/x-python",
   "name": "python",
   "nbconvert_exporter": "python",
   "pygments_lexer": "ipython3",
   "version": "3.13.4"
  }
 },
 "nbformat": 4,
 "nbformat_minor": 5
}
