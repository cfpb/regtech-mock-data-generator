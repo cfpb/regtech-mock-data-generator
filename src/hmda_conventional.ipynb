{
 "cells": [
  {
   "cell_type": "code",
   "execution_count": null,
   "id": "959641f0",
   "metadata": {},
   "outputs": [],
   "source": [
    "import pandas as pd\n",
    "import utils\n",
    "\n",
    "from mock_data import MockDataset"
   ]
  },
  {
   "cell_type": "code",
   "execution_count": null,
   "id": "9f0737fd",
   "metadata": {},
   "outputs": [],
   "source": [
    "def mock_full_dataset(yaml_file, output_filepath, output_filename, nrows: int, ts_df):\n",
    "    mock = MockDataset.read_yaml_spec(yaml_file)\n",
    "    mock_df = mock.generate_mock_data(nrows)\n",
    "    # Create and append check digit for the ULI field using the utils.check_digit_gen() tool\n",
    "    mock_df[\"uli\"] = mock_df[\"uli\"] + mock_df[\"uli\"].apply(\n",
    "        lambda x: utils.check_digit_gen(ULI=x)\n",
    "    )\n",
    "    # Remove the column names from the mock_df for writing to the final .txt output as the HMDA file format requires no headers\n",
    "    mock_df.columns = [\"\"] * len(mock_df.columns)\n",
    "    # Write the file out as a .txt following HMDA file format - TS as first row, LAR as subsequent rows\n",
    "    utils.write_file(\n",
    "        path=output_filepath, name=output_filename, ts_input=ts_df, lar_input=mock_df\n",
    "    )"
   ]
  },
  {
   "cell_type": "code",
   "execution_count": null,
   "id": "1314d2d9",
   "metadata": {},
   "outputs": [],
   "source": [
    "# Define the transmittal sheet that you will add as the header to your final PSV .txt file\n",
    "\n",
    "ts_df = pd.DataFrame(\n",
    "    [\n",
    "        [\n",
    "            \"1\",\n",
    "            \"Bank1\",\n",
    "            \"2025\",\n",
    "            \"4\",\n",
    "            \"Mr. Smug Pockets\",\n",
    "            \"555-555-5555\",\n",
    "            \"pockets@ficus.com\",\n",
    "            \"1234 Hocus Potato Way\",\n",
    "            \"Tatertown\",\n",
    "            \"UT\",\n",
    "            \"54096\",\n",
    "            \"9\",\n",
    "            \"1000000\",\n",
    "            \"02-1234567\",\n",
    "            \"BANK1LEIFORTEST12345\",\n",
    "        ]\n",
    "    ]\n",
    ")"
   ]
  },
  {
   "cell_type": "code",
   "execution_count": null,
   "id": "5f37cc7f",
   "metadata": {},
   "outputs": [],
   "source": [
    "# Run the function with your specified outputs.\n",
    "\n",
    "mock_full_dataset(\n",
    "    yaml_file=\"config/hmda_simplified_conventional.yaml\",\n",
    "    output_filepath=\"output/\",\n",
    "    output_filename=\"hmda_simplified_conventional.txt\",\n",
    "    nrows=100,\n",
    "    ts_df=ts_df,\n",
    ")"
   ]
  }
 ],
 "metadata": {
  "kernelspec": {
   "display_name": ".venv",
   "language": "python",
   "name": "python3"
  },
  "language_info": {
   "codemirror_mode": {
    "name": "ipython",
    "version": 3
   },
   "file_extension": ".py",
   "mimetype": "text/x-python",
   "name": "python",
   "nbconvert_exporter": "python",
   "pygments_lexer": "ipython3",
   "version": "3.13.4"
  }
 },
 "nbformat": 4,
 "nbformat_minor": 5
}
