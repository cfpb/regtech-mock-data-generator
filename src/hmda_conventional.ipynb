{
 "cells": [
  {
   "cell_type": "code",
   "execution_count": null,
   "id": "959641f0",
   "metadata": {},
   "outputs": [],
   "source": [
    "import pandas as pd\n",
    "import yaml\n",
    "\n",
    "from mock_data import MockDataset\n",
    "from mock_data import utils"
   ]
  },
  {
   "cell_type": "code",
   "execution_count": null,
   "id": "9f0737fd",
   "metadata": {},
   "outputs": [],
   "source": [
    "def mock_full_dataset(yaml_file, output_filepath, nrows: int, transmittal_sheet):\n",
    "    mock = MockDataset.read_yaml_spec(yaml_file)\n",
    "    mock_df = mock.generate_mock_data(nrows)\n",
    "    # Create and append check digit for the ULI field using the utils.check_digit_gen() tool\n",
    "    mock_df[\"uli\"] = mock_df[\"uli\"] + mock_df[\"uli\"].apply(\n",
    "        lambda x: utils.check_digit_gen(ULI=x)\n",
    "    )\n",
    "    # Read in the transmittal sheet\n",
    "    with open(transmittal_sheet, \"r\") as file:\n",
    "        ts = yaml.safe_load(file)\n",
    "    ts_df = pd.DataFrame(ts)\n",
    "    # Write the file out as a .txt following HMDA file format - TS as first row, LAR as subsequent rows\n",
    "    utils.write_file(outpath=output_filepath, ts_input=ts_df, lar_input=mock_df)"
   ]
  },
  {
   "cell_type": "code",
   "execution_count": null,
   "id": "5f37cc7f",
   "metadata": {},
   "outputs": [],
   "source": [
    "# Run the function with your specified outputs.\n",
    "\n",
    "mock_full_dataset(\n",
    "    yaml_file=\"config/hmda_simplified_conventional.yaml\",\n",
    "    output_filepath=\"output/hmda_simplified_conventional.txt\",\n",
    "    nrows=100,  # should match the lar_count in hmda_ts.yaml\n",
    "    transmittal_sheet=\"config/hmda_ts.yaml\",\n",
    ")"
   ]
  }
 ],
 "metadata": {
  "kernelspec": {
   "display_name": ".venv",
   "language": "python",
   "name": "python3"
  },
  "language_info": {
   "codemirror_mode": {
    "name": "ipython",
    "version": 3
   },
   "file_extension": ".py",
   "mimetype": "text/x-python",
   "name": "python",
   "nbconvert_exporter": "python",
   "pygments_lexer": "ipython3",
   "version": "3.13.6"
  }
 },
 "nbformat": 4,
 "nbformat_minor": 5
}
