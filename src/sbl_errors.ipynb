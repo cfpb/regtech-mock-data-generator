{
 "cells": [
  {
   "cell_type": "code",
   "execution_count": null,
   "metadata": {},
   "outputs": [],
   "source": [
    "import pandas as pd\n",
    "\n",
    "path_to_single_errors = '~/regtech-test-files/sbl/single_field_errors/'\n",
    "path_to_multi_errors = '~/regtech-test-files/sbl/multi_field_errors/'\n",
    "path_to_clean = '~/regtech-test-files/sbl/clean_files/sbl_100_clean.csv'"
   ]
  },
  {
   "cell_type": "code",
   "execution_count": null,
   "metadata": {},
   "outputs": [],
   "source": [
    "clean = pd.read_csv(path_to_clean)"
   ]
  },
  {
   "cell_type": "code",
   "execution_count": null,
   "metadata": {},
   "outputs": [],
   "source": [
    "dirty = clean.copy()"
   ]
  },
  {
   "cell_type": "code",
   "execution_count": null,
   "metadata": {},
   "outputs": [],
   "source": [
    "clean"
   ]
  },
  {
   "cell_type": "markdown",
   "metadata": {},
   "source": [
    "# Single field Errors\n",
    "---"
   ]
  },
  {
   "cell_type": "code",
   "execution_count": null,
   "metadata": {},
   "outputs": [],
   "source": [
    "#error E0001\n",
    "error = 'E0001'\n",
    "dirty['uid'] = clean['uid'] + clean['uid']\n",
    "dirty.to_csv(path_to_single_errors+error+'_sbl.csv')\n",
    "dirty = clean.copy()"
   ]
  },
  {
   "cell_type": "code",
   "execution_count": null,
   "metadata": {},
   "outputs": [],
   "source": [
    "##error E0002\n",
    "error = 'E0002'\n",
    "\n",
    "dirty['uid'] = clean['uid'] + ['$%^']*len(dirty)\n",
    "dirty.to_csv(path_to_single_errors+error+'_sbl.csv')\n",
    "dirty = clean.copy()"
   ]
  },
  {
   "cell_type": "code",
   "execution_count": null,
   "metadata": {},
   "outputs": [],
   "source": [
    "##error E0003\n",
    "error = 'E0003'\n",
    "\n",
    "dirty['app_date'] = ['may,31,2024']*len(dirty)\n",
    "dirty.to_csv(path_to_single_errors+error+'_sbl.csv')\n",
    "dirty = clean.copy()"
   ]
  },
  {
   "cell_type": "code",
   "execution_count": null,
   "metadata": {},
   "outputs": [],
   "source": [
    "dirty"
   ]
  },
  {
   "cell_type": "code",
   "execution_count": null,
   "metadata": {},
   "outputs": [],
   "source": [
    "##error E0040\n",
    "error = 'E0040'\n",
    "\n",
    "dirty['app_method'] =  ['8']*len(dirty)\n",
    "dirty.to_csv(path_to_single_errors+error+'_sbl.csv')\n",
    "\n",
    "dirty = clean.copy()"
   ]
  },
  {
   "cell_type": "code",
   "execution_count": null,
   "metadata": {},
   "outputs": [],
   "source": [
    "##error E0060\n",
    "error = 'E0060'\n",
    "\n",
    "dirty['app_recipient'] =  ['8']*len(dirty)\n",
    "dirty.to_csv(path_to_single_errors+error+'_sbl.csv')\n",
    "\n",
    "dirty = clean.copy()"
   ]
  },
  {
   "cell_type": "code",
   "execution_count": null,
   "metadata": {},
   "outputs": [],
   "source": [
    "##error E0100\n",
    "error = 'E0100'\n",
    "dirty['ct_credit_product'] =  ['12']*len(dirty)\n",
    "dirty.to_csv(path_to_single_errors+error+'_sbl.csv')\n",
    "\n",
    "dirty = clean.copy()"
   ]
  },
  {
   "cell_type": "code",
   "execution_count": null,
   "metadata": {},
   "outputs": [],
   "source": [
    "##error E0120\n",
    "error = 'E0120'\n",
    "dirty['ct_guarantee'] =  ['12;345;5;54;5']*len(dirty)\n",
    "dirty.to_csv(path_to_single_errors+error+'_sbl.csv')\n",
    "\n",
    "dirty = clean.copy()"
   ]
  },
  {
   "cell_type": "code",
   "execution_count": null,
   "metadata": {},
   "outputs": [],
   "source": [
    "error = 'E0121'\n",
    "dirty['ct_guarantee'] =  ['1;2;3;4;5;6;7']*len(dirty)\n",
    "dirty.to_csv(path_to_single_errors+error+'_sbl.csv')\n",
    "\n",
    "dirty = clean.copy()"
   ]
  },
  {
   "cell_type": "code",
   "execution_count": null,
   "metadata": {},
   "outputs": [],
   "source": [
    "error = 'E0140'\n",
    "dirty['ct_guarantee_ff'] =  ['Lorem ipsum dolor sit amet, consectetur adipiscing elit. Praesent fringilla dolor sed lacus viverra, sit amet facilisis ligula fermentum. Sed vitae tortor fringilla enim hendrerit molestie. Pellentesque lectus erat, imperdiet ut lectus eu, ultrices posuere libero. Nullam hendrerit velit et ex pretium suscipit. Maecenas leo diam, cursus sit amet enim at, pharetra dignissim dui. In imperdiet metus eget laoreet porta. Morbi eu urna vel sem dapibus dignissim. Fusce at pellentesque risus. Morbi gravida augue massa, et luctus leo efficitur malesuada. Aenean lacinia felis a velit vehicula, at ultrices dolor sagittis. Nullam eu velit ultricies, aliquam est non, ornare enim. Cras vitae justo et arcu mollis vehicula non at libero.Sed tincidunt sollicitudin dolor, vel mattis metus tincidunt sed. Duis rhoncus vestibulum odio, ultrices gravida nunc. Aenean in sem enim. Suspendisse mauris arcu, tincidunt ut nisi quis, finibus laoreet ante. Praesent neque est, suscipit at dolor vel, facilisis dapibus nunc. Donec cursus dolor eu libero sollicitudin, a sagittis risus mattis. Morbi facilisis eleifend felis vitae porta. Integer nec diam vel eros rutrum tristique et eu orci. Nullam vitae quam lacus. Nunc ultricies, nibh eget placerat euismod, purus libero aliquet nibh, eget mollis massa libero a eros. Donec non suscipit metus. Nullam ornare risus ut massa ultrices, id tempor metus suscipit.']*len(dirty)\n",
    "dirty.to_csv(path_to_single_errors+error+'_sbl.csv')\n",
    "\n",
    "dirty = clean.copy()"
   ]
  },
  {
   "cell_type": "code",
   "execution_count": null,
   "metadata": {},
   "outputs": [],
   "source": [
    "error = 'E0160'\n",
    "dirty['ct_loan_term_flag'] =  ['877']*len(dirty)\n",
    "dirty.to_csv(path_to_single_errors+error+'_sbl.csv')\n",
    "\n",
    "dirty = clean.copy()"
   ]
  },
  {
   "cell_type": "code",
   "execution_count": null,
   "metadata": {},
   "outputs": [],
   "source": [
    "error = 'E0180'\n",
    "dirty['ct_loan_term'] =  [234.4323]*len(dirty)\n",
    "dirty.to_csv(path_to_single_errors+error+'_sbl.csv')\n",
    "\n",
    "dirty = clean.copy()"
   ]
  },
  {
   "cell_type": "code",
   "execution_count": null,
   "metadata": {},
   "outputs": [],
   "source": [
    "error = 'E0181'\n",
    "dirty['ct_loan_term'] =  [.5]*len(dirty)\n",
    "dirty.to_csv(path_to_single_errors+error+'_sbl.csv')\n",
    "\n",
    "dirty = clean.copy()"
   ]
  },
  {
   "cell_type": "code",
   "execution_count": null,
   "metadata": {},
   "outputs": [],
   "source": [
    "error = 'E0200'\n",
    "dirty['credit_purpose'] =  [12]*len(dirty)\n",
    "dirty.to_csv(path_to_single_errors+error+'_sbl.csv')\n",
    "\n",
    "dirty = clean.copy()"
   ]
  },
  {
   "cell_type": "code",
   "execution_count": null,
   "metadata": {},
   "outputs": [],
   "source": [
    "error = 'E0201'\n",
    "dirty['credit_purpose'] =  [\"\"]*(len(dirty)//4) + [\"1;2;3;4;5;6\"]*(len(dirty)//4) + [\"3:2:1\"]*(len(dirty)//2)\n",
    "dirty.to_csv(path_to_single_errors+error+'_sbl.csv')\n",
    "\n",
    "dirty = clean.copy()"
   ]
  },
  {
   "cell_type": "code",
   "execution_count": null,
   "metadata": {},
   "outputs": [],
   "source": [
    "error = 'E0220'\n",
    "dirty['credit_purpose_ff'] =  ['Lorem ipsum dolor sit amet, consectetur adipiscing elit. Praesent fringilla dolor sed lacus viverra, sit amet facilisis ligula fermentum. Sed vitae tortor fringilla enim hendrerit molestie. Pellentesque lectus erat, imperdiet ut lectus eu, ultrices posuere libero. Nullam hendrerit velit et ex pretium suscipit. Maecenas leo diam, cursus sit amet enim at, pharetra dignissim dui. In imperdiet metus eget laoreet porta. Morbi eu urna vel sem dapibus dignissim. Fusce at pellentesque risus. Morbi gravida augue massa, et luctus leo efficitur malesuada. Aenean lacinia felis a velit vehicula, at ultrices dolor sagittis. Nullam eu velit ultricies, aliquam est non, ornare enim. Cras vitae justo et arcu mollis vehicula non at libero.Sed tincidunt sollicitudin dolor, vel mattis metus tincidunt sed. Duis rhoncus vestibulum odio, ultrices gravida nunc. Aenean in sem enim. Suspendisse mauris arcu, tincidunt ut nisi quis, finibus laoreet ante. Praesent neque est, suscipit at dolor vel, facilisis dapibus nunc. Donec cursus dolor eu libero sollicitudin, a sagittis risus mattis. Morbi facilisis eleifend felis vitae porta. Integer nec diam vel eros rutrum tristique et eu orci. Nullam vitae quam lacus. Nunc ultricies, nibh eget placerat euismod, purus libero aliquet nibh, eget mollis massa libero a eros. Donec non suscipit metus. Nullam ornare risus ut massa ultrices, id tempor metus suscipit.']*len(dirty)\n",
    "dirty.to_csv(path_to_single_errors+error+'_sbl.csv')\n",
    "\n",
    "dirty = clean.copy()"
   ]
  },
  {
   "cell_type": "code",
   "execution_count": null,
   "metadata": {},
   "outputs": [],
   "source": [
    "error = 'E0240'\n",
    "dirty['amount_applied_for_flag'] =  [\"12\"]*len(dirty)\n",
    "dirty.to_csv(path_to_single_errors+error+'_sbl.csv')\n",
    "dirty = clean.copy()\n"
   ]
  },
  {
   "cell_type": "code",
   "execution_count": null,
   "metadata": {},
   "outputs": [],
   "source": [
    "error = 'E0260'\n",
    "dirty['amount_applied_for'] =  [\"hello!\"]*len(dirty)\n",
    "dirty.to_csv(path_to_single_errors+error+'_sbl.csv')\n",
    "\n",
    "dirty = clean.copy()"
   ]
  },
  {
   "cell_type": "code",
   "execution_count": null,
   "metadata": {},
   "outputs": [],
   "source": [
    "error = 'E0261'\n",
    "dirty['amount_applied_for'] =  [-2]*len(dirty)\n",
    "dirty.to_csv(path_to_single_errors+error+'_sbl.csv')\n",
    "\n",
    "dirty = clean.copy()"
   ]
  },
  {
   "cell_type": "code",
   "execution_count": null,
   "metadata": {},
   "outputs": [],
   "source": [
    "error = 'E0280'\n",
    "dirty['amount_approved'] =  ['hello!!']*len(dirty)\n",
    "dirty.to_csv(path_to_single_errors+error+'_sbl.csv')\n",
    "\n",
    "dirty = clean.copy()"
   ]
  },
  {
   "cell_type": "code",
   "execution_count": null,
   "metadata": {},
   "outputs": [],
   "source": [
    "error = 'E0281'\n",
    "dirty['amount_approved'] =  [-2]*len(dirty)\n",
    "dirty.to_csv(path_to_single_errors+error+'_sbl.csv')\n",
    "\n",
    "dirty = clean.copy()"
   ]
  },
  {
   "cell_type": "code",
   "execution_count": null,
   "metadata": {},
   "outputs": [],
   "source": [
    "error = 'E0300'\n",
    "dirty['amount_approved'] =  [-2]*len(dirty)\n",
    "dirty.to_csv(path_to_single_errors+error+'_sbl.csv')\n",
    "\n",
    "dirty = clean.copy()"
   ]
  },
  {
   "cell_type": "code",
   "execution_count": null,
   "metadata": {},
   "outputs": [],
   "source": [
    "error = 'E0320'\n",
    "dirty['action_taken_date'] =  ['june,first,2024']*len(dirty)\n",
    "dirty.to_csv(path_to_single_errors+error+'_sbl.csv')\n",
    "\n",
    "dirty = clean.copy()"
   ]
  },
  {
   "cell_type": "code",
   "execution_count": null,
   "metadata": {},
   "outputs": [],
   "source": [
    "error = 'E0321'\n",
    "dirty['action_taken_date'] =  ['19600101']*len(dirty)\n",
    "dirty.to_csv(path_to_single_errors+error+'_sbl.csv')\n",
    "\n",
    "dirty = clean.copy()"
   ]
  },
  {
   "cell_type": "code",
   "execution_count": null,
   "metadata": {},
   "outputs": [],
   "source": [
    "error = 'E0340'\n",
    "dirty['credit_purpose'] =  [\"12;23;4\"]*(len(dirty)//2) + ['1:2:3']*(len(dirty)//2)\n",
    "dirty.to_csv(path_to_single_errors+error+'_sbl.csv')\n",
    "\n",
    "dirty = clean.copy()"
   ]
  },
  {
   "cell_type": "code",
   "execution_count": null,
   "metadata": {},
   "outputs": [],
   "source": [
    "error = 'E0340'\n",
    "dirty['credit_purpose'] =  [\"\"]*(len(dirty)//2) + [\"1;2;3;4;5;6\"]*(len(dirty)//2) \n",
    "dirty.to_csv(path_to_single_errors+error+'_sbl.csv')\n",
    "\n",
    "dirty = clean.copy()"
   ]
  },
  {
   "cell_type": "code",
   "execution_count": null,
   "metadata": {},
   "outputs": [],
   "source": [
    "error = 'E0360'\n",
    "dirty['credit_purpose_ff'] =  ['Lorem ipsum dolor sit amet, consectetur adipiscing elit. Praesent fringilla dolor sed lacus viverra, sit amet facilisis ligula fermentum. Sed vitae tortor fringilla enim hendrerit molestie. Pellentesque lectus erat, imperdiet ut lectus eu, ultrices posuere libero. Nullam hendrerit velit et ex pretium suscipit. Maecenas leo diam, cursus sit amet enim at, pharetra dignissim dui. In imperdiet metus eget laoreet porta. Morbi eu urna vel sem dapibus dignissim. Fusce at pellentesque risus. Morbi gravida augue massa, et luctus leo efficitur malesuada. Aenean lacinia felis a velit vehicula, at ultrices dolor sagittis. Nullam eu velit ultricies, aliquam est non, ornare enim. Cras vitae justo et arcu mollis vehicula non at libero.Sed tincidunt sollicitudin dolor, vel mattis metus tincidunt sed. Duis rhoncus vestibulum odio, ultrices gravida nunc. Aenean in sem enim. Suspendisse mauris arcu, tincidunt ut nisi quis, finibus laoreet ante. Praesent neque est, suscipit at dolor vel, facilisis dapibus nunc. Donec cursus dolor eu libero sollicitudin, a sagittis risus mattis. Morbi facilisis eleifend felis vitae porta. Integer nec diam vel eros rutrum tristique et eu orci. Nullam vitae quam lacus. Nunc ultricies, nibh eget placerat euismod, purus libero aliquet nibh, eget mollis massa libero a eros. Donec non suscipit metus. Nullam ornare risus ut massa ultrices, id tempor metus suscipit.']*len(dirty)\n",
    "dirty.to_csv(path_to_single_errors+error+'_sbl.csv')\n",
    "\n",
    "dirty = clean.copy()"
   ]
  },
  {
   "cell_type": "code",
   "execution_count": null,
   "metadata": {},
   "outputs": [],
   "source": [
    "error = 'E0380'\n",
    "dirty['pricing_interest_rate_type'] =  [\"888\"]*(len(dirty))\n",
    "dirty.to_csv(path_to_single_errors+error+'_sbl.csv')\n",
    "\n",
    "dirty = clean.copy()"
   ]
  },
  {
   "cell_type": "code",
   "execution_count": null,
   "metadata": {},
   "outputs": [],
   "source": [
    "error = 'E0400'\n",
    "dirty['pricing_init_rate_period'] =  [\"888.0\"]*(len(dirty))\n",
    "dirty.to_csv(path_to_single_errors+error+'_sbl.csv')\n",
    "\n",
    "dirty = clean.copy()"
   ]
  },
  {
   "cell_type": "code",
   "execution_count": null,
   "metadata": {},
   "outputs": [],
   "source": [
    "error = 'E0401'\n",
    "dirty['pricing_init_rate_period'] =  [\"-2\"]*(len(dirty))\n",
    "dirty.to_csv(path_to_single_errors+error+'_sbl.csv')\n",
    "\n",
    "dirty = clean.copy()"
   ]
  },
  {
   "cell_type": "code",
   "execution_count": null,
   "metadata": {},
   "outputs": [],
   "source": [
    "error = 'E0420'\n",
    "dirty['pricing_fixed_rate'] =  [\"value\"]*(len(dirty))\n",
    "dirty.to_csv(path_to_single_errors+error+'_sbl.csv')\n",
    "\n",
    "dirty = clean.copy()"
   ]
  },
  {
   "cell_type": "code",
   "execution_count": null,
   "metadata": {},
   "outputs": [],
   "source": [
    "error = 'E0440'\n",
    "dirty['pricing_adj_margin'] =  [\"value\"]*(len(dirty))\n",
    "dirty.to_csv(path_to_single_errors+error+'_sbl.csv')\n",
    "\n",
    "dirty = clean.copy()"
   ]
  },
  {
   "cell_type": "code",
   "execution_count": null,
   "metadata": {},
   "outputs": [],
   "source": [
    "error = 'E0460'\n",
    "dirty['pricing_adj_index_name'] =  [\"30\"]*(len(dirty))\n",
    "dirty.to_csv(path_to_single_errors+error+'_sbl.csv')\n",
    "\n",
    "dirty = clean.copy()"
   ]
  },
  {
   "cell_type": "code",
   "execution_count": null,
   "metadata": {},
   "outputs": [],
   "source": [
    "error = 'E0480'\n",
    "dirty['pricing_adj_index_name_ff'] =  ['Lorem ipsum dolor sit amet, consectetur adipiscing elit. Praesent fringilla dolor sed lacus viverra, sit amet facilisis ligula fermentum. Sed vitae tortor fringilla enim hendrerit molestie. Pellentesque lectus erat, imperdiet ut lectus eu, ultrices posuere libero. Nullam hendrerit velit et ex pretium suscipit. Maecenas leo diam, cursus sit amet enim at, pharetra dignissim dui. In imperdiet metus eget laoreet porta. Morbi eu urna vel sem dapibus dignissim. Fusce at pellentesque risus. Morbi gravida augue massa, et luctus leo efficitur malesuada. Aenean lacinia felis a velit vehicula, at ultrices dolor sagittis. Nullam eu velit ultricies, aliquam est non, ornare enim. Cras vitae justo et arcu mollis vehicula non at libero.Sed tincidunt sollicitudin dolor, vel mattis metus tincidunt sed. Duis rhoncus vestibulum odio, ultrices gravida nunc. Aenean in sem enim. Suspendisse mauris arcu, tincidunt ut nisi quis, finibus laoreet ante. Praesent neque est, suscipit at dolor vel, facilisis dapibus nunc. Donec cursus dolor eu libero sollicitudin, a sagittis risus mattis. Morbi facilisis eleifend felis vitae porta. Integer nec diam vel eros rutrum tristique et eu orci. Nullam vitae quam lacus. Nunc ultricies, nibh eget placerat euismod, purus libero aliquet nibh, eget mollis massa libero a eros. Donec non suscipit metus. Nullam ornare risus ut massa ultrices, id tempor metus suscipit.']*len(dirty)\n",
    "dirty.to_csv(path_to_single_errors+error+'_sbl.csv')\n",
    "\n",
    "dirty = clean.copy()"
   ]
  },
  {
   "cell_type": "code",
   "execution_count": null,
   "metadata": {},
   "outputs": [],
   "source": [
    "error = 'E0500'\n",
    "dirty['pricing_adj_index_value'] =  [\"value\"]*(len(dirty))\n",
    "dirty.to_csv(path_to_single_errors+error+'_sbl.csv')\n",
    "\n",
    "dirty = clean.copy()"
   ]
  },
  {
   "cell_type": "code",
   "execution_count": null,
   "metadata": {},
   "outputs": [],
   "source": [
    "error = 'E0520'\n",
    "dirty['pricing_origination_charges'] =  [\"value\"]*(len(dirty))\n",
    "dirty.to_csv(path_to_single_errors+error+'_sbl.csv')\n",
    "\n",
    "dirty = clean.copy()"
   ]
  },
  {
   "cell_type": "code",
   "execution_count": null,
   "metadata": {},
   "outputs": [],
   "source": [
    "error = 'E0540'\n",
    "dirty['pricing_broker_fees'] =  [\"value\"]*(len(dirty))\n",
    "dirty.to_csv(path_to_single_errors+error+'_sbl.csv')\n",
    "\n",
    "dirty = clean.copy()"
   ]
  },
  {
   "cell_type": "code",
   "execution_count": null,
   "metadata": {},
   "outputs": [],
   "source": [
    "error = 'E0560'\n",
    "dirty['pricing_initial_charges'] =  [\"value\"]*(len(dirty))\n",
    "dirty.to_csv(path_to_single_errors+error+'_sbl.csv')\n",
    "\n",
    "dirty = clean.copy()"
   ]
  },
  {
   "cell_type": "code",
   "execution_count": null,
   "metadata": {},
   "outputs": [],
   "source": [
    "error = 'E0580'\n",
    "dirty['pricing_mca_addcost_flag'] =  [\"333\"]*(len(dirty))\n",
    "dirty.to_csv(path_to_single_errors+error+'_sbl.csv')\n",
    "\n",
    "dirty = clean.copy()"
   ]
  },
  {
   "cell_type": "code",
   "execution_count": null,
   "metadata": {},
   "outputs": [],
   "source": [
    "error = 'E0600'\n",
    "dirty['pricing_mca_addcost'] =  [\"value\"]*(len(dirty))\n",
    "dirty.to_csv(path_to_single_errors+error+'_sbl.csv')\n",
    "\n",
    "dirty = clean.copy()"
   ]
  },
  {
   "cell_type": "code",
   "execution_count": null,
   "metadata": {},
   "outputs": [],
   "source": [
    "error = 'E0620'\n",
    "dirty['pricing_prepenalty_allowed'] =  [\"12\"]*(len(dirty))\n",
    "dirty.to_csv(path_to_single_errors+error+'_sbl.csv')\n",
    "\n",
    "dirty = clean.copy()"
   ]
  },
  {
   "cell_type": "code",
   "execution_count": null,
   "metadata": {},
   "outputs": [],
   "source": [
    "error = 'E0640'\n",
    "dirty['pricing_prepenalty_exists'] =  [\"12\"]*(len(dirty))\n",
    "dirty.to_csv(path_to_single_errors+error+'_sbl.csv')\n",
    "\n",
    "dirty = clean.copy()"
   ]
  },
  {
   "cell_type": "code",
   "execution_count": null,
   "metadata": {},
   "outputs": [],
   "source": [
    "error = 'E0660'\n",
    "dirty['census_tract_adr_type'] =  [\"888\"]*(len(dirty))\n",
    "dirty.to_csv(path_to_single_errors+error+'_sbl.csv')\n",
    "\n",
    "dirty = clean.copy()"
   ]
  },
  {
   "cell_type": "code",
   "execution_count": null,
   "metadata": {},
   "outputs": [],
   "source": [
    "error = 'E0680'\n",
    "dirty['census_tract_number'] =  [\"1234567\"]*(len(dirty))\n",
    "dirty.to_csv(path_to_single_errors+error+'_sbl.csv')\n",
    "\n",
    "dirty = clean.copy()"
   ]
  },
  {
   "cell_type": "code",
   "execution_count": null,
   "metadata": {},
   "outputs": [],
   "source": [
    "error = 'E0700'\n",
    "dirty['census_tract_number'] =  [\"909\"]*(len(dirty))\n",
    "dirty.to_csv(path_to_single_errors+error+'_sbl.csv')\n",
    "\n",
    "dirty = clean.copy()"
   ]
  },
  {
   "cell_type": "code",
   "execution_count": null,
   "metadata": {},
   "outputs": [],
   "source": [
    "error = 'E0720'\n",
    "dirty['gross_annual_revenue'] =  [\"909\"]*(len(dirty))\n",
    "dirty.to_csv(path_to_single_errors+error+'_sbl.csv')\n",
    "\n",
    "dirty = clean.copy()"
   ]
  },
  {
   "cell_type": "code",
   "execution_count": null,
   "metadata": {},
   "outputs": [],
   "source": [
    "error = 'E0740'\n",
    "dirty['naics_code_flag'] =  [\"value\"]*(len(dirty))\n",
    "dirty.to_csv(path_to_single_errors+error+'_sbl.csv')\n",
    "\n",
    "dirty = clean.copy()"
   ]
  },
  {
   "cell_type": "code",
   "execution_count": null,
   "metadata": {},
   "outputs": [],
   "source": [
    "error = 'E0760'\n",
    "dirty['naics_code'] =  [\"1342342\"]*(len(dirty))\n",
    "dirty.to_csv(path_to_single_errors+error+'_sbl.csv')\n",
    "\n",
    "dirty = clean.copy()"
   ]
  },
  {
   "cell_type": "code",
   "execution_count": null,
   "metadata": {},
   "outputs": [],
   "source": [
    "error = 'E0761'\n",
    "dirty['naics_code'] =  [\"#41\"]*(len(dirty))\n",
    "dirty.to_csv(path_to_single_errors+error+'_sbl.csv')\n",
    "\n",
    "dirty = clean.copy()"
   ]
  },
  {
   "cell_type": "code",
   "execution_count": null,
   "metadata": {},
   "outputs": [],
   "source": [
    "error = 'E0780'\n",
    "dirty['naics_code'] =  [\"12\"]*(len(dirty))\n",
    "dirty.to_csv(path_to_single_errors+error+'_sbl.csv')\n",
    "\n",
    "dirty = clean.copy()"
   ]
  },
  {
   "cell_type": "code",
   "execution_count": null,
   "metadata": {},
   "outputs": [],
   "source": [
    "error = 'E0800'\n",
    "dirty['time_in_business_type'] =  [\"12\"]*(len(dirty))\n",
    "dirty.to_csv(path_to_single_errors+error+'_sbl.csv')\n",
    "\n",
    "dirty = clean.copy()"
   ]
  },
  {
   "cell_type": "code",
   "execution_count": null,
   "metadata": {},
   "outputs": [],
   "source": [
    "error = 'E0820'\n",
    "dirty['time_in_business'] =  [\"10.1\"]*(len(dirty))\n",
    "dirty.to_csv(path_to_single_errors+error+'_sbl.csv')\n",
    "\n",
    "dirty = clean.copy()"
   ]
  },
  {
   "cell_type": "code",
   "execution_count": null,
   "metadata": {},
   "outputs": [],
   "source": [
    "error = 'E0821'\n",
    "dirty['time_in_business'] =  [\"-1\"]*(len(dirty))\n",
    "dirty.to_csv(path_to_single_errors+error+'_sbl.csv')\n",
    "\n",
    "dirty = clean.copy()"
   ]
  },
  {
   "cell_type": "code",
   "execution_count": null,
   "metadata": {},
   "outputs": [],
   "source": [
    "error = 'E0840'\n",
    "dirty['business_ownership_status'] =  [\"1:2\"]*(len(dirty))\n",
    "dirty.to_csv(path_to_single_errors+error+'_sbl.csv')\n",
    "\n",
    "dirty = clean.copy()"
   ]
  },
  {
   "cell_type": "code",
   "execution_count": null,
   "metadata": {},
   "outputs": [],
   "source": [
    "error = 'E0841'\n",
    "dirty['business_ownership_status'] =  [\"\"]*(len(dirty))\n",
    "dirty.to_csv(path_to_single_errors+error+'_sbl.csv')\n",
    "\n",
    "dirty = clean.copy()"
   ]
  },
  {
   "cell_type": "code",
   "execution_count": null,
   "metadata": {},
   "outputs": [],
   "source": [
    "error = 'E0860'\n",
    "dirty['num_principal_owners_flag'] =  [\"12\"]*(len(dirty))\n",
    "dirty.to_csv(path_to_single_errors+error+'_sbl.csv')\n",
    "\n",
    "dirty = clean.copy()"
   ]
  },
  {
   "cell_type": "code",
   "execution_count": null,
   "metadata": {},
   "outputs": [],
   "source": [
    "error = 'E0880'\n",
    "dirty['num_principal_owners'] =  [\"12\"]*(len(dirty))\n",
    "dirty.to_csv(path_to_single_errors+error+'_sbl.csv')\n",
    "\n",
    "dirty = clean.copy()"
   ]
  },
  {
   "cell_type": "code",
   "execution_count": null,
   "metadata": {},
   "outputs": [],
   "source": [
    "error = 'E0900'\n",
    "dirty['po_1_ethnicity'] =  [\"1;2;3;4\"]*(len(dirty))\n",
    "dirty.to_csv(path_to_single_errors+error+'_sbl.csv')\n",
    "\n",
    "dirty = clean.copy()"
   ]
  },
  {
   "cell_type": "code",
   "execution_count": null,
   "metadata": {},
   "outputs": [],
   "source": [
    "error = 'E0920'\n",
    "dirty['po_1_ethnicity_ff'] =  ['Lorem ipsum dolor sit amet, consectetur adipiscing elit. Praesent fringilla dolor sed lacus viverra, sit amet facilisis ligula fermentum. Sed vitae tortor fringilla enim hendrerit molestie. Pellentesque lectus erat, imperdiet ut lectus eu, ultrices posuere libero. Nullam hendrerit velit et ex pretium suscipit. Maecenas leo diam, cursus sit amet enim at, pharetra dignissim dui. In imperdiet metus eget laoreet porta. Morbi eu urna vel sem dapibus dignissim. Fusce at pellentesque risus. Morbi gravida augue massa, et luctus leo efficitur malesuada. Aenean lacinia felis a velit vehicula, at ultrices dolor sagittis. Nullam eu velit ultricies, aliquam est non, ornare enim. Cras vitae justo et arcu mollis vehicula non at libero.Sed tincidunt sollicitudin dolor, vel mattis metus tincidunt sed. Duis rhoncus vestibulum odio, ultrices gravida nunc. Aenean in sem enim. Suspendisse mauris arcu, tincidunt ut nisi quis, finibus laoreet ante. Praesent neque est, suscipit at dolor vel, facilisis dapibus nunc. Donec cursus dolor eu libero sollicitudin, a sagittis risus mattis. Morbi facilisis eleifend felis vitae porta. Integer nec diam vel eros rutrum tristique et eu orci. Nullam vitae quam lacus. Nunc ultricies, nibh eget placerat euismod, purus libero aliquet nibh, eget mollis massa libero a eros. Donec non suscipit metus. Nullam ornare risus ut massa ultrices, id tempor metus suscipit.']*len(dirty)\n",
    "dirty.to_csv(path_to_single_errors+error+'_sbl.csv')\n",
    "\n",
    "dirty = clean.copy()"
   ]
  },
  {
   "cell_type": "code",
   "execution_count": null,
   "metadata": {},
   "outputs": [],
   "source": [
    "error = 'E0940'\n",
    "dirty['po_1_race'] =  [\"1;2;3;4\"]*(len(dirty))\n",
    "dirty.to_csv(path_to_single_errors+error+'_sbl.csv')\n",
    "\n",
    "dirty = clean.copy()"
   ]
  },
  {
   "cell_type": "code",
   "execution_count": null,
   "metadata": {},
   "outputs": [],
   "source": [
    "error = 'E0960'\n",
    "dirty['po_1_race_anai_ff'] =  ['Lorem ipsum dolor sit amet, consectetur adipiscing elit. Praesent fringilla dolor sed lacus viverra, sit amet facilisis ligula fermentum. Sed vitae tortor fringilla enim hendrerit molestie. Pellentesque lectus erat, imperdiet ut lectus eu, ultrices posuere libero. Nullam hendrerit velit et ex pretium suscipit. Maecenas leo diam, cursus sit amet enim at, pharetra dignissim dui. In imperdiet metus eget laoreet porta. Morbi eu urna vel sem dapibus dignissim. Fusce at pellentesque risus. Morbi gravida augue massa, et luctus leo efficitur malesuada. Aenean lacinia felis a velit vehicula, at ultrices dolor sagittis. Nullam eu velit ultricies, aliquam est non, ornare enim. Cras vitae justo et arcu mollis vehicula non at libero.Sed tincidunt sollicitudin dolor, vel mattis metus tincidunt sed. Duis rhoncus vestibulum odio, ultrices gravida nunc. Aenean in sem enim. Suspendisse mauris arcu, tincidunt ut nisi quis, finibus laoreet ante. Praesent neque est, suscipit at dolor vel, facilisis dapibus nunc. Donec cursus dolor eu libero sollicitudin, a sagittis risus mattis. Morbi facilisis eleifend felis vitae porta. Integer nec diam vel eros rutrum tristique et eu orci. Nullam vitae quam lacus. Nunc ultricies, nibh eget placerat euismod, purus libero aliquet nibh, eget mollis massa libero a eros. Donec non suscipit metus. Nullam ornare risus ut massa ultrices, id tempor metus suscipit.']*len(dirty)\n",
    "dirty.to_csv(path_to_single_errors+error+'_sbl.csv')\n",
    "\n",
    "dirty = clean.copy()"
   ]
  },
  {
   "cell_type": "code",
   "execution_count": null,
   "metadata": {},
   "outputs": [],
   "source": [
    "error = 'E0980'\n",
    "dirty['po_1_race_asian_ff'] =  ['Lorem ipsum dolor sit amet, consectetur adipiscing elit. Praesent fringilla dolor sed lacus viverra, sit amet facilisis ligula fermentum. Sed vitae tortor fringilla enim hendrerit molestie. Pellentesque lectus erat, imperdiet ut lectus eu, ultrices posuere libero. Nullam hendrerit velit et ex pretium suscipit. Maecenas leo diam, cursus sit amet enim at, pharetra dignissim dui. In imperdiet metus eget laoreet porta. Morbi eu urna vel sem dapibus dignissim. Fusce at pellentesque risus. Morbi gravida augue massa, et luctus leo efficitur malesuada. Aenean lacinia felis a velit vehicula, at ultrices dolor sagittis. Nullam eu velit ultricies, aliquam est non, ornare enim. Cras vitae justo et arcu mollis vehicula non at libero.Sed tincidunt sollicitudin dolor, vel mattis metus tincidunt sed. Duis rhoncus vestibulum odio, ultrices gravida nunc. Aenean in sem enim. Suspendisse mauris arcu, tincidunt ut nisi quis, finibus laoreet ante. Praesent neque est, suscipit at dolor vel, facilisis dapibus nunc. Donec cursus dolor eu libero sollicitudin, a sagittis risus mattis. Morbi facilisis eleifend felis vitae porta. Integer nec diam vel eros rutrum tristique et eu orci. Nullam vitae quam lacus. Nunc ultricies, nibh eget placerat euismod, purus libero aliquet nibh, eget mollis massa libero a eros. Donec non suscipit metus. Nullam ornare risus ut massa ultrices, id tempor metus suscipit.']*len(dirty)\n",
    "dirty.to_csv(path_to_single_errors+error+'_sbl.csv')\n",
    "\n",
    "dirty = clean.copy()"
   ]
  },
  {
   "cell_type": "code",
   "execution_count": null,
   "metadata": {},
   "outputs": [],
   "source": [
    "error = 'E1000'\n",
    "dirty['po_1_race_baa_ff'] =  ['Lorem ipsum dolor sit amet, consectetur adipiscing elit. Praesent fringilla dolor sed lacus viverra, sit amet facilisis ligula fermentum. Sed vitae tortor fringilla enim hendrerit molestie. Pellentesque lectus erat, imperdiet ut lectus eu, ultrices posuere libero. Nullam hendrerit velit et ex pretium suscipit. Maecenas leo diam, cursus sit amet enim at, pharetra dignissim dui. In imperdiet metus eget laoreet porta. Morbi eu urna vel sem dapibus dignissim. Fusce at pellentesque risus. Morbi gravida augue massa, et luctus leo efficitur malesuada. Aenean lacinia felis a velit vehicula, at ultrices dolor sagittis. Nullam eu velit ultricies, aliquam est non, ornare enim. Cras vitae justo et arcu mollis vehicula non at libero.Sed tincidunt sollicitudin dolor, vel mattis metus tincidunt sed. Duis rhoncus vestibulum odio, ultrices gravida nunc. Aenean in sem enim. Suspendisse mauris arcu, tincidunt ut nisi quis, finibus laoreet ante. Praesent neque est, suscipit at dolor vel, facilisis dapibus nunc. Donec cursus dolor eu libero sollicitudin, a sagittis risus mattis. Morbi facilisis eleifend felis vitae porta. Integer nec diam vel eros rutrum tristique et eu orci. Nullam vitae quam lacus. Nunc ultricies, nibh eget placerat euismod, purus libero aliquet nibh, eget mollis massa libero a eros. Donec non suscipit metus. Nullam ornare risus ut massa ultrices, id tempor metus suscipit.']*len(dirty)\n",
    "dirty.to_csv(path_to_single_errors+error+'_sbl.csv')\n",
    "\n",
    "dirty = clean.copy()"
   ]
  },
  {
   "cell_type": "code",
   "execution_count": null,
   "metadata": {},
   "outputs": [],
   "source": [
    "error = 'E1020'\n",
    "dirty['po_1_race_pi_ff'] =  ['Lorem ipsum dolor sit amet, consectetur adipiscing elit. Praesent fringilla dolor sed lacus viverra, sit amet facilisis ligula fermentum. Sed vitae tortor fringilla enim hendrerit molestie. Pellentesque lectus erat, imperdiet ut lectus eu, ultrices posuere libero. Nullam hendrerit velit et ex pretium suscipit. Maecenas leo diam, cursus sit amet enim at, pharetra dignissim dui. In imperdiet metus eget laoreet porta. Morbi eu urna vel sem dapibus dignissim. Fusce at pellentesque risus. Morbi gravida augue massa, et luctus leo efficitur malesuada. Aenean lacinia felis a velit vehicula, at ultrices dolor sagittis. Nullam eu velit ultricies, aliquam est non, ornare enim. Cras vitae justo et arcu mollis vehicula non at libero.Sed tincidunt sollicitudin dolor, vel mattis metus tincidunt sed. Duis rhoncus vestibulum odio, ultrices gravida nunc. Aenean in sem enim. Suspendisse mauris arcu, tincidunt ut nisi quis, finibus laoreet ante. Praesent neque est, suscipit at dolor vel, facilisis dapibus nunc. Donec cursus dolor eu libero sollicitudin, a sagittis risus mattis. Morbi facilisis eleifend felis vitae porta. Integer nec diam vel eros rutrum tristique et eu orci. Nullam vitae quam lacus. Nunc ultricies, nibh eget placerat euismod, purus libero aliquet nibh, eget mollis massa libero a eros. Donec non suscipit metus. Nullam ornare risus ut massa ultrices, id tempor metus suscipit.']*len(dirty)\n",
    "dirty.to_csv(path_to_single_errors+error+'_sbl.csv')\n",
    "\n",
    "dirty = clean.copy()"
   ]
  },
  {
   "cell_type": "code",
   "execution_count": null,
   "metadata": {},
   "outputs": [],
   "source": [
    "error = 'E1040'\n",
    "dirty['po_1_gender_flag'] =  [\"5\"]*(len(dirty))\n",
    "dirty.to_csv(path_to_single_errors+error+'_sbl.csv')\n",
    "\n",
    "dirty = clean.copy()"
   ]
  },
  {
   "cell_type": "code",
   "execution_count": null,
   "metadata": {},
   "outputs": [],
   "source": [
    "error = 'E1060'\n",
    "dirty['po_1_gender_ff'] =  ['Lorem ipsum dolor sit amet, consectetur adipiscing elit. Praesent fringilla dolor sed lacus viverra, sit amet facilisis ligula fermentum. Sed vitae tortor fringilla enim hendrerit molestie. Pellentesque lectus erat, imperdiet ut lectus eu, ultrices posuere libero. Nullam hendrerit velit et ex pretium suscipit. Maecenas leo diam, cursus sit amet enim at, pharetra dignissim dui. In imperdiet metus eget laoreet porta. Morbi eu urna vel sem dapibus dignissim. Fusce at pellentesque risus. Morbi gravida augue massa, et luctus leo efficitur malesuada. Aenean lacinia felis a velit vehicula, at ultrices dolor sagittis. Nullam eu velit ultricies, aliquam est non, ornare enim. Cras vitae justo et arcu mollis vehicula non at libero.Sed tincidunt sollicitudin dolor, vel mattis metus tincidunt sed. Duis rhoncus vestibulum odio, ultrices gravida nunc. Aenean in sem enim. Suspendisse mauris arcu, tincidunt ut nisi quis, finibus laoreet ante. Praesent neque est, suscipit at dolor vel, facilisis dapibus nunc. Donec cursus dolor eu libero sollicitudin, a sagittis risus mattis. Morbi facilisis eleifend felis vitae porta. Integer nec diam vel eros rutrum tristique et eu orci. Nullam vitae quam lacus. Nunc ultricies, nibh eget placerat euismod, purus libero aliquet nibh, eget mollis massa libero a eros. Donec non suscipit metus. Nullam ornare risus ut massa ultrices, id tempor metus suscipit.']*len(dirty)\n",
    "dirty.to_csv(path_to_single_errors+error+'_sbl.csv')\n",
    "\n",
    "dirty = clean.copy()"
   ]
  },
  {
   "cell_type": "markdown",
   "metadata": {},
   "source": [
    "# Multi Field errors\n",
    "---"
   ]
  },
  {
   "cell_type": "code",
   "execution_count": null,
   "metadata": {},
   "outputs": [],
   "source": [
    "error = 'E2000'\n",
    "indep = 'ct_credit_product'\n",
    "dep = 'ct_credit_product_ff'\n",
    "\n",
    "for i,x in enumerate(dirty[indep]):\n",
    "    if x != 977:\n",
    "        dirty.loc[i,dep] = 'this shouldnt be here'\n",
    "    else:\n",
    "        dirty.loc[i,dep] = ''\n",
    "\n",
    "dirty.to_csv(path_to_multi_errors+error+'_sbl.csv')\n",
    "dirty = clean.copy()"
   ]
  },
  {
   "cell_type": "code",
   "execution_count": null,
   "metadata": {},
   "outputs": [],
   "source": [
    "error = 'E2001'\n",
    "indep = 'ct_guarantee'\n",
    "dep = 'ct_guarantee_ff'\n",
    "\n",
    "for i,x in enumerate(dirty[indep]):\n",
    "    if '977' not in x:\n",
    "        dirty.loc[i,dep] = 'this shouldnt be here'\n",
    "    else:\n",
    "        dirty.loc[i,dep] = ''\n",
    "\n",
    "dirty.to_csv(path_to_multi_errors+error+'_sbl.csv')\n",
    "dirty = clean.copy()"
   ]
  },
  {
   "cell_type": "code",
   "execution_count": null,
   "metadata": {},
   "outputs": [],
   "source": [
    "error = 'E2003'\n",
    "#affected fields\n",
    "indep = 'ct_credit_product'\n",
    "dep = 'ct_credit_product_flag'\n",
    "\n",
    "for i,x in enumerate(dirty[indep]):\n",
    "    if x in [1,2]:\n",
    "        dirty.loc[i,dep] = 999\n",
    "    elif x == 988:\n",
    "        dirty.loc[i,dep] = 900      \n",
    "dirty.to_csv(path_to_multi_errors+error+'_sbl.csv')\n",
    "dirty = clean.copy()"
   ]
  },
  {
   "cell_type": "code",
   "execution_count": null,
   "metadata": {},
   "outputs": [],
   "source": [
    "error = 'E2004'\n",
    "#affected fields\n",
    "indep = 'ct_loan_term_flag'\n",
    "dep = 'ct_loan_term'\n",
    "\n",
    "for i,x in enumerate(dirty[indep]):\n",
    "    if x != 900:\n",
    "        dirty.loc[i,dep] = 988\n",
    "    elif x == 900:\n",
    "        dirty.loc[i,dep] = ''      \n",
    "dirty.to_csv(path_to_multi_errors+error+'_sbl.csv')\n",
    "dirty = clean.copy()"
   ]
  },
  {
   "cell_type": "code",
   "execution_count": null,
   "metadata": {},
   "outputs": [],
   "source": [
    "error = 'E2005'\n",
    "indep = 'credit_purpose'\n",
    "dep = 'credit_purpose_ff'\n",
    "\n",
    "for i,x in enumerate(dirty[indep]):\n",
    "    if '977' not in x:\n",
    "        dirty.loc[i,dep] = 'this shouldnt be here'\n",
    "    else:\n",
    "        dirty.loc[i,dep] = ''\n",
    "\n",
    "dirty.to_csv(path_to_multi_errors+error+'_sbl.csv')\n",
    "dirty = clean.copy()"
   ]
  },
  {
   "cell_type": "code",
   "execution_count": null,
   "metadata": {},
   "outputs": [],
   "source": [
    "error = 'E2007'\n",
    "#affected fields\n",
    "indep = 'amount_applied_for_flag'\n",
    "dep = 'amount_applied_for'\n",
    "\n",
    "for i,x in enumerate(dirty[indep]):\n",
    "    if x != 900:\n",
    "        dirty.loc[i,dep] = 988\n",
    "    elif x == 900:\n",
    "        dirty.loc[i,dep] = ''      \n",
    "dirty.to_csv(path_to_multi_errors+error+'_sbl.csv')\n",
    "dirty = clean.copy()"
   ]
  },
  {
   "cell_type": "code",
   "execution_count": null,
   "metadata": {},
   "outputs": [],
   "source": [
    "error = 'E2008'\n",
    "#affected fields\n",
    "indep = 'action_taken'\n",
    "dep = 'amount_approved'\n",
    "\n",
    "for i,x in enumerate(dirty[indep]):\n",
    "    if x not in [1,2]:\n",
    "        dirty.loc[i,dep] = 100\n",
    "    elif x in [1,2]:\n",
    "        dirty.loc[i,dep] = ''      \n",
    "dirty.to_csv(path_to_multi_errors+error+'_sbl.csv')\n",
    "dirty = clean.copy()"
   ]
  },
  {
   "cell_type": "code",
   "execution_count": null,
   "metadata": {},
   "outputs": [],
   "source": [
    "error = 'E2009'\n",
    "#affected fields\n",
    "indep = 'action_taken_date'\n",
    "dep = 'app_date'\n",
    "\n",
    "act_dt = dirty[indep].copy\n",
    "app_dt = dirty[dep].copy\n",
    "\n",
    "dirty[indep] = app_dt\n",
    "dirty[dep] = act_dt\n",
    "\n",
    "dirty.to_csv(path_to_multi_errors+error+'_sbl.csv')\n",
    "dirty = clean.copy()"
   ]
  },
  {
   "cell_type": "code",
   "execution_count": null,
   "metadata": {},
   "outputs": [],
   "source": [
    "error = 'E2011'\n",
    "#affected fields\n",
    "indep = 'action_taken'\n",
    "dep = 'denial_reasons'\n",
    "\n",
    "for i,x in enumerate(dirty[indep]):\n",
    "    if x == 3:\n",
    "        dirty.loc[i,dep] = 999\n",
    "    elif x != 3:\n",
    "        dirty.loc[i,dep] = 1   \n",
    "dirty.to_csv(path_to_multi_errors+error+'_sbl.csv')\n",
    "dirty = clean.copy()"
   ]
  },
  {
   "cell_type": "code",
   "execution_count": null,
   "metadata": {},
   "outputs": [],
   "source": [
    "error = 'E2012'\n",
    "indep = 'denial_reasons'\n",
    "dep = 'denial_reasons_ff'\n",
    "\n",
    "for i,x in enumerate(dirty[indep]):\n",
    "    if '977' not in x:\n",
    "        dirty.loc[i,dep] = 'this shouldnt be here'\n",
    "    else:\n",
    "        dirty.loc[i,dep] = ''\n",
    "\n",
    "dirty.to_csv(path_to_multi_errors+error+'_sbl.csv')\n",
    "dirty = clean.copy()"
   ]
  },
  {
   "cell_type": "code",
   "execution_count": null,
   "metadata": {},
   "outputs": [],
   "source": [
    "error = 'E2014'\n",
    "indep = 'action_taken'\n",
    "\n",
    "\n",
    "for i,x in enumerate(dirty[indep]):\n",
    "    if x in [3,4,5]:\n",
    "        dirty.loc[i,'pricing_interest_rate_type'] == 3        \n",
    "        dirty.loc[i,'pricing_mca_addcost_flag'] == 900\n",
    "        dirty.loc[i,'pricing_prepenalty_allowed'] == 2\n",
    "        dirty.loc[i,'pricing_prepenalty_exists'] == 2\n",
    "        dirty.loc[i,'pricing_origination_charges'] == 900\n",
    "        dirty.loc[i,'pricing_broker_fees'] == 900\n",
    "        dirty.loc[i,'pricing_initial_charges'] == 900\n",
    "\n",
    "\n",
    "dirty.to_csv(path_to_multi_errors+error+'_sbl.csv')\n",
    "dirty = clean.copy()"
   ]
  },
  {
   "cell_type": "code",
   "execution_count": null,
   "metadata": {},
   "outputs": [],
   "source": [
    "error = 'E2015'\n",
    "indep = 'action_taken'\n",
    "\n",
    "\n",
    "for i,x in enumerate(dirty[indep]):\n",
    "    if x in [1,2]:\n",
    "        dirty.loc[i,'pricing_prepenalty_allowed'] == 999\n",
    "        dirty.loc[i,'pricing_prepenalty_exists'] == 999\n",
    "        dirty.loc[i,'pricing_origination_charges'] == ''\n",
    "        dirty.loc[i,'pricing_broker_fees'] == ''\n",
    "        dirty.loc[i,'pricing_initial_charges'] == ''\n",
    "\n",
    "\n",
    "dirty.to_csv(path_to_multi_errors+error+'_sbl.csv')\n",
    "dirty = clean.copy()"
   ]
  },
  {
   "cell_type": "code",
   "execution_count": null,
   "metadata": {},
   "outputs": [],
   "source": [
    "error = 'E2016'\n",
    "#affected fields\n",
    "indep = 'pricing_interest_rate_type'\n",
    "dep = 'pricing_init_rate_period'\n",
    "\n",
    "for i,x in enumerate(dirty[indep]):\n",
    "    if x not in [3,4,5,6]:\n",
    "        dirty.loc[i,dep] = 999\n",
    "    if x in [3,4,5,6]:\n",
    "        dirty.loc[i,dep] = ''\n",
    "dirty.to_csv(path_to_multi_errors+error+'_sbl.csv')\n",
    "dirty = clean.copy()"
   ]
  },
  {
   "cell_type": "code",
   "execution_count": null,
   "metadata": {},
   "outputs": [],
   "source": [
    "error = 'E2017'\n",
    "#affected fields\n",
    "indep = 'pricing_interest_rate_type'\n",
    "dep = 'pricing_fixed_rate'\n",
    "\n",
    "for i,x in enumerate(dirty[indep]):\n",
    "    if x not in [2,4,6]:\n",
    "        dirty.loc[i,dep] = 10\n",
    "    if x in [2,4,6]:\n",
    "        dirty.loc[i,dep] = ''\n",
    "dirty.to_csv(path_to_multi_errors+error+'_sbl.csv')\n",
    "dirty = clean.copy()"
   ]
  },
  {
   "cell_type": "code",
   "execution_count": null,
   "metadata": {},
   "outputs": [],
   "source": [
    "error = 'E2018'\n",
    "#affected fields\n",
    "indep = 'pricing_interest_rate_type'\n",
    "dep = 'pricing_adj_margin'\n",
    "\n",
    "for i,x in enumerate(dirty[indep]):\n",
    "    if x not in [1,3,5]:\n",
    "        dirty.loc[i,dep] = 10\n",
    "    if x in [1,3,5]:\n",
    "        dirty.loc[i,dep] = ''\n",
    "dirty.to_csv(path_to_multi_errors+error+'_sbl.csv')\n",
    "dirty = clean.copy()"
   ]
  },
  {
   "cell_type": "code",
   "execution_count": null,
   "metadata": {},
   "outputs": [],
   "source": [
    "error = 'E2019'\n",
    "#affected fields\n",
    "indep = 'pricing_interest_rate_type'\n",
    "dep = 'pricing_adj_index_name'\n",
    "\n",
    "for i,x in enumerate(dirty[indep]):\n",
    "    if x not in [1,3,5]:\n",
    "        dirty.loc[i,dep] = 6\n",
    "    if x in [1,3,5]:\n",
    "        dirty.loc[i,dep] = 999\n",
    "dirty.to_csv(path_to_multi_errors+error+'_sbl.csv')\n",
    "dirty = clean.copy()"
   ]
  },
  {
   "cell_type": "code",
   "execution_count": null,
   "metadata": {},
   "outputs": [],
   "source": [
    "error = 'E2020'\n",
    "indep = 'pricing_adj_index_name'\n",
    "dep = 'pricing_adj_index_name_ff'\n",
    "\n",
    "for i,x in enumerate(dirty[indep]):\n",
    "    if x != 977:\n",
    "        dirty.loc[i,dep] = 'this shouldnt be here'\n",
    "    else:\n",
    "        dirty.loc[i,dep] = ''\n",
    "\n",
    "dirty.to_csv(path_to_multi_errors+error+'_sbl.csv')\n",
    "dirty = clean.copy()"
   ]
  },
  {
   "cell_type": "code",
   "execution_count": null,
   "metadata": {},
   "outputs": [],
   "source": [
    "error = 'E2021'\n",
    "#affected fields\n",
    "indep = 'pricing_interest_rate_type'\n",
    "dep = 'pricing_adj_index_value'\n",
    "\n",
    "for i,x in enumerate(dirty[indep]):\n",
    "    if x not in [1,3]:\n",
    "        dirty.loc[i,dep] = 6\n",
    "    if x in [1,3]:\n",
    "        dirty.loc[i,dep] = ''\n",
    "dirty.to_csv(path_to_multi_errors+error+'_sbl.csv')\n",
    "dirty = clean.copy()"
   ]
  },
  {
   "cell_type": "code",
   "execution_count": null,
   "metadata": {},
   "outputs": [],
   "source": [
    "error = 'E2022'\n",
    "#affected fields\n",
    "indep = 'ct_credit_product'\n",
    "dep = 'pricing_mca_addcost_flag'\n",
    "\n",
    "for i,x in enumerate(dirty[indep]):\n",
    "    if x not in [7,8,977]:\n",
    "        dirty.loc[i,dep] = 900\n",
    "dirty.to_csv(path_to_multi_errors+error+'_sbl.csv')\n",
    "dirty = clean.copy()"
   ]
  },
  {
   "cell_type": "code",
   "execution_count": null,
   "metadata": {},
   "outputs": [],
   "source": [
    "error = 'E2023'\n",
    "#affected fields\n",
    "indep = 'pricing_mca_addcost_flag'\n",
    "dep = 'pricing_mca_addcost'\n",
    "\n",
    "for i,x in enumerate(dirty[indep]):\n",
    "    if x not in [900]:\n",
    "        dirty.loc[i,dep] = 6\n",
    "    if x in [900]:\n",
    "        dirty.loc[i,dep] = ''\n",
    "dirty.to_csv(path_to_multi_errors+error+'_sbl.csv')\n",
    "dirty = clean.copy()"
   ]
  },
  {
   "cell_type": "code",
   "execution_count": null,
   "metadata": {},
   "outputs": [],
   "source": [
    "error = 'E2024'\n",
    "#affected fields\n",
    "indep = 'census_tract_adr_type'\n",
    "dep = 'census_tract_number'\n",
    "\n",
    "for i,x in enumerate(dirty[indep]):\n",
    "    if x == 988:\n",
    "        dirty.loc[i,dep] = 12345678901\n",
    "    if x in [1,2,3]:\n",
    "        dirty.loc[i,dep] = ''\n",
    "dirty.to_csv(path_to_multi_errors+error+'_sbl.csv')\n",
    "dirty = clean.copy()"
   ]
  },
  {
   "cell_type": "code",
   "execution_count": null,
   "metadata": {},
   "outputs": [],
   "source": [
    "error = 'E2025'\n",
    "#affected fields\n",
    "indep = 'gross_annual_revenue_flag'\n",
    "dep = 'gross_annual_revenue'\n",
    "\n",
    "for i,x in enumerate(dirty[indep]):\n",
    "    if x not in [900]:\n",
    "        dirty.loc[i,dep] = 6\n",
    "    if x in [900]:\n",
    "        dirty.loc[i,dep] = ''\n",
    "dirty.to_csv(path_to_multi_errors+error+'_sbl.csv')\n",
    "dirty = clean.copy()"
   ]
  },
  {
   "cell_type": "code",
   "execution_count": null,
   "metadata": {},
   "outputs": [],
   "source": [
    "error = 'E2026'\n",
    "#affected fields\n",
    "indep = 'naics_code_flag'\n",
    "dep = 'naics_code'\n",
    "\n",
    "for i,x in enumerate(dirty[indep]):\n",
    "    if x not in [900]:\n",
    "        dirty.loc[i,dep] = 123\n",
    "    if x in [900]:\n",
    "        dirty.loc[i,dep] = ''\n",
    "dirty.to_csv(path_to_multi_errors+error+'_sbl.csv')\n",
    "dirty = clean.copy()"
   ]
  },
  {
   "cell_type": "code",
   "execution_count": null,
   "metadata": {},
   "outputs": [],
   "source": [
    "error = 'E2027'\n",
    "#affected fields\n",
    "indep = 'time_in_business_type'\n",
    "dep = 'time_in_business'\n",
    "\n",
    "for i,x in enumerate(dirty[indep]):\n",
    "    if x != 1:\n",
    "        dirty.loc[i,dep] = 100\n",
    "    if x == 1:\n",
    "        dirty.loc[i,dep] = ''\n",
    "dirty.to_csv(path_to_multi_errors+error+'_sbl.csv')\n",
    "dirty = clean.copy()"
   ]
  },
  {
   "cell_type": "code",
   "execution_count": null,
   "metadata": {},
   "outputs": [],
   "source": [
    "error = 'E2028'\n",
    "#affected fields\n",
    "indep = 'num_principal_owners_flag'\n",
    "dep = 'num_principal_owners'\n",
    "\n",
    "for i,x in enumerate(dirty[indep]):\n",
    "    if x not in [900]:\n",
    "        dirty.loc[i,dep] = 3\n",
    "    if x in [900]:\n",
    "        dirty.loc[i,dep] = ''\n",
    "dirty.to_csv(path_to_multi_errors+error+'_sbl.csv')\n",
    "dirty = clean.copy()"
   ]
  },
  {
   "cell_type": "code",
   "execution_count": null,
   "metadata": {},
   "outputs": [],
   "source": [
    "error = 'E2040'\n",
    "#affected fields\n",
    "indep = 'po_1_ethnicity'\n",
    "dep = 'po_1_ethnicity_ff'\n",
    "\n",
    "for i,x in enumerate(dirty[indep]):\n",
    "    if '977' not in str(x):\n",
    "        dirty.loc[i,dep] = 'this shouldnt be here'\n",
    "    elif '977' in str(x):\n",
    "        dirty.loc[i,dep] = ''\n",
    "\n",
    "dirty.to_csv(path_to_multi_errors+error+'_sbl.csv')\n",
    "dirty = clean.copy()"
   ]
  },
  {
   "cell_type": "code",
   "execution_count": null,
   "metadata": {},
   "outputs": [],
   "source": [
    "error = 'E2041'\n",
    "#affected fields\n",
    "indep = 'po_2_ethnicity'\n",
    "dep = 'po_2_ethnicity_ff'\n",
    "\n",
    "for i,x in enumerate(dirty[indep]):\n",
    "    if '977' not in str(x):\n",
    "        dirty.loc[i,dep] = 'this shouldnt be here'\n",
    "    elif '977' in str(x):\n",
    "        dirty.loc[i,dep] = ''\n",
    "\n",
    "dirty.to_csv(path_to_multi_errors+error+'_sbl.csv')\n",
    "dirty = clean.copy()"
   ]
  },
  {
   "cell_type": "code",
   "execution_count": null,
   "metadata": {},
   "outputs": [],
   "source": [
    "error = 'E2042'\n",
    "#affected fields\n",
    "indep = 'po_3_ethnicity'\n",
    "dep = 'po_3_ethnicity_ff'\n",
    "\n",
    "for i,x in enumerate(dirty[indep]):\n",
    "    if '977' not in str(x):\n",
    "        dirty.loc[i,dep] = 'this shouldnt be here'\n",
    "    elif '977' in str(x):\n",
    "        dirty.loc[i,dep] = ''\n",
    "\n",
    "dirty.to_csv(path_to_multi_errors+error+'_sbl.csv')\n",
    "dirty = clean.copy()"
   ]
  },
  {
   "cell_type": "code",
   "execution_count": null,
   "metadata": {},
   "outputs": [],
   "source": [
    "error = 'E2043'\n",
    "#affected fields\n",
    "indep = 'po_4_ethnicity'\n",
    "dep = 'po_4_ethnicity_ff'\n",
    "\n",
    "for i,x in enumerate(dirty[indep]):\n",
    "    if '977' not in str(x):\n",
    "        dirty.loc[i,dep] = 'this shouldnt be here'\n",
    "    elif '977' in str(x):\n",
    "        dirty.loc[i,dep] = ''\n",
    "\n",
    "dirty.to_csv(path_to_multi_errors+error+'_sbl.csv')\n",
    "dirty = clean.copy()"
   ]
  },
  {
   "cell_type": "code",
   "execution_count": null,
   "metadata": {},
   "outputs": [],
   "source": [
    "error = 'E2060'\n",
    "#affected fields\n",
    "indep = 'po_1_race'\n",
    "dep = 'po_1_race_anai_ff'\n",
    "\n",
    "for i,x in enumerate(dirty[indep]):\n",
    "    if '971' not in str(x):\n",
    "        dirty.loc[i,dep] = 'this shouldnt be here'\n",
    "    elif '971' in str(x):\n",
    "        dirty.loc[i,dep] = ''\n",
    "\n",
    "dirty.to_csv(path_to_multi_errors+error+'_sbl.csv')\n",
    "dirty = clean.copy()"
   ]
  },
  {
   "cell_type": "code",
   "execution_count": null,
   "metadata": {},
   "outputs": [],
   "source": [
    "error = 'E2061'\n",
    "#affected fields\n",
    "indep = 'po_2_race'\n",
    "dep = 'po_2_race_anai_ff'\n",
    "\n",
    "for i,x in enumerate(dirty[indep]):\n",
    "    if '971' not in str(x):\n",
    "        dirty.loc[i,dep] = 'this shouldnt be here'\n",
    "    elif '971' in str(x):\n",
    "        dirty.loc[i,dep] = ''\n",
    "\n",
    "dirty.to_csv(path_to_multi_errors+error+'_sbl.csv')\n",
    "dirty = clean.copy()"
   ]
  },
  {
   "cell_type": "code",
   "execution_count": null,
   "metadata": {},
   "outputs": [],
   "source": [
    "error = 'E2062'\n",
    "#affected fields\n",
    "indep = 'po_3_race'\n",
    "dep = 'po_3_race_anai_ff'\n",
    "\n",
    "for i,x in enumerate(dirty[indep]):\n",
    "    if '971' not in str(x):\n",
    "        dirty.loc[i,dep] = 'this shouldnt be here'\n",
    "    elif '971' in str(x):\n",
    "        dirty.loc[i,dep] = ''\n",
    "\n",
    "dirty.to_csv(path_to_multi_errors+error+'_sbl.csv')\n",
    "dirty = clean.copy()"
   ]
  },
  {
   "cell_type": "code",
   "execution_count": null,
   "metadata": {},
   "outputs": [],
   "source": [
    "error = 'E2063'\n",
    "#affected fields\n",
    "indep = 'po_4_race'\n",
    "dep = 'po_4_race_anai_ff'\n",
    "\n",
    "for i,x in enumerate(dirty[indep]):\n",
    "    if '971' not in str(x):\n",
    "        dirty.loc[i,dep] = 'this shouldnt be here'\n",
    "    elif '971' in str(x):\n",
    "        dirty.loc[i,dep] = ''\n",
    "\n",
    "dirty.to_csv(path_to_multi_errors+error+'_sbl.csv')\n",
    "dirty = clean.copy()"
   ]
  },
  {
   "cell_type": "code",
   "execution_count": null,
   "metadata": {},
   "outputs": [],
   "source": [
    "error = 'E2080'\n",
    "#affected fields\n",
    "indep = 'po_1_race'\n",
    "dep = 'po_1_race_asian_ff'\n",
    "\n",
    "for i,x in enumerate(dirty[indep]):\n",
    "    if '972' not in str(x):\n",
    "        dirty.loc[i,dep] = 'this shouldnt be here'\n",
    "    elif '972' in str(x):\n",
    "        dirty.loc[i,dep] = ''\n",
    "\n",
    "dirty.to_csv(path_to_multi_errors+error+'_sbl.csv')\n",
    "dirty = clean.copy()"
   ]
  },
  {
   "cell_type": "code",
   "execution_count": null,
   "metadata": {},
   "outputs": [],
   "source": [
    "error = 'E2081'\n",
    "#affected fields\n",
    "indep = 'po_2_race'\n",
    "dep = 'po_2_race_asian_ff'\n",
    "\n",
    "for i,x in enumerate(dirty[indep]):\n",
    "    if '972' not in str(x):\n",
    "        dirty.loc[i,dep] = 'this shouldnt be here'\n",
    "    elif '972' in str(x):\n",
    "        dirty.loc[i,dep] = ''\n",
    "\n",
    "dirty.to_csv(path_to_multi_errors+error+'_sbl.csv')\n",
    "dirty = clean.copy()"
   ]
  },
  {
   "cell_type": "code",
   "execution_count": null,
   "metadata": {},
   "outputs": [],
   "source": [
    "error = 'E2082'\n",
    "#affected fields\n",
    "indep = 'po_3_race'\n",
    "dep = 'po_3_race_asian_ff'\n",
    "\n",
    "for i,x in enumerate(dirty[indep]):\n",
    "    if '972' not in str(x):\n",
    "        dirty.loc[i,dep] = 'this shouldnt be here'\n",
    "    elif '972' in str(x):\n",
    "        dirty.loc[i,dep] = ''\n",
    "\n",
    "dirty.to_csv(path_to_multi_errors+error+'_sbl.csv')\n",
    "dirty = clean.copy()"
   ]
  },
  {
   "cell_type": "code",
   "execution_count": null,
   "metadata": {},
   "outputs": [],
   "source": [
    "error = 'E2083'\n",
    "#affected fields\n",
    "indep = 'po_4_race'\n",
    "dep = 'po_4_race_asian_ff'\n",
    "\n",
    "for i,x in enumerate(dirty[indep]):\n",
    "    if '972' not in str(x):\n",
    "        dirty.loc[i,dep] = 'this shouldnt be here'\n",
    "    elif '972' in str(x):\n",
    "        dirty.loc[i,dep] = ''\n",
    "\n",
    "dirty.to_csv(path_to_multi_errors+error+'_sbl.csv')\n",
    "dirty = clean.copy()"
   ]
  },
  {
   "cell_type": "code",
   "execution_count": null,
   "metadata": {},
   "outputs": [],
   "source": [
    "error = 'E2100'\n",
    "#affected fields\n",
    "indep = 'po_1_race'\n",
    "dep = 'po_1_race_baa_ff'\n",
    "\n",
    "for i,x in enumerate(dirty[indep]):\n",
    "    if '973' not in str(x):\n",
    "        dirty.loc[i,dep] = 'this shouldnt be here'\n",
    "    elif '973' in str(x):\n",
    "        dirty.loc[i,dep] = ''\n",
    "\n",
    "dirty.to_csv(path_to_multi_errors+error+'_sbl.csv')\n",
    "dirty = clean.copy()"
   ]
  },
  {
   "cell_type": "code",
   "execution_count": null,
   "metadata": {},
   "outputs": [],
   "source": [
    "error = 'E2101'\n",
    "#affected fields\n",
    "indep = 'po_2_race'\n",
    "dep = 'po_2_race_baa_ff'\n",
    "\n",
    "for i,x in enumerate(dirty[indep]):\n",
    "    if '973' not in str(x):\n",
    "        dirty.loc[i,dep] = 'this shouldnt be here'\n",
    "    elif '973' in str(x):\n",
    "        dirty.loc[i,dep] = ''\n",
    "\n",
    "dirty.to_csv(path_to_multi_errors+error+'_sbl.csv')\n",
    "dirty = clean.copy()"
   ]
  },
  {
   "cell_type": "code",
   "execution_count": null,
   "metadata": {},
   "outputs": [],
   "source": [
    "error = 'E2102'\n",
    "#affected fields\n",
    "indep = 'po_3_race'\n",
    "dep = 'po_3_race_baa_ff'\n",
    "\n",
    "for i,x in enumerate(dirty[indep]):\n",
    "    if '973' not in str(x):\n",
    "        dirty.loc[i,dep] = 'this shouldnt be here'\n",
    "    elif '973' in str(x):\n",
    "        dirty.loc[i,dep] = ''\n",
    "\n",
    "dirty.to_csv(path_to_multi_errors+error+'_sbl.csv')\n",
    "dirty = clean.copy()"
   ]
  },
  {
   "cell_type": "code",
   "execution_count": null,
   "metadata": {},
   "outputs": [],
   "source": [
    "error = 'E2103'\n",
    "#affected fields\n",
    "indep = 'po_4_race'\n",
    "dep = 'po_4_race_baa_ff'\n",
    "\n",
    "for i,x in enumerate(dirty[indep]):\n",
    "    if '973' not in str(x):\n",
    "        dirty.loc[i,dep] = 'this shouldnt be here'\n",
    "    elif '973' in str(x):\n",
    "        dirty.loc[i,dep] = ''\n",
    "\n",
    "dirty.to_csv(path_to_multi_errors+error+'_sbl.csv')\n",
    "dirty = clean.copy()"
   ]
  },
  {
   "cell_type": "code",
   "execution_count": null,
   "metadata": {},
   "outputs": [],
   "source": [
    "error = 'E2120'\n",
    "#affected fields\n",
    "indep = 'po_1_race'\n",
    "dep = 'po_1_race_pi_ff'\n",
    "\n",
    "for i,x in enumerate(dirty[indep]):\n",
    "    if '974' not in str(x):\n",
    "        dirty.loc[i,dep] = 'this shouldnt be here'\n",
    "    elif '974' in str(x):\n",
    "        dirty.loc[i,dep] = ''\n",
    "\n",
    "dirty.to_csv(path_to_multi_errors+error+'_sbl.csv')\n",
    "dirty = clean.copy()"
   ]
  },
  {
   "cell_type": "code",
   "execution_count": null,
   "metadata": {},
   "outputs": [],
   "source": [
    "error = 'E2121'\n",
    "#affected fields\n",
    "indep = 'po_2_race'\n",
    "dep = 'po_2_race_pi_ff'\n",
    "\n",
    "for i,x in enumerate(dirty[indep]):\n",
    "    if '974' not in str(x):\n",
    "        dirty.loc[i,dep] = 'this shouldnt be here'\n",
    "    elif '974' in str(x):\n",
    "        dirty.loc[i,dep] = ''\n",
    "\n",
    "dirty.to_csv(path_to_multi_errors+error+'_sbl.csv')\n",
    "dirty = clean.copy()"
   ]
  },
  {
   "cell_type": "code",
   "execution_count": null,
   "metadata": {},
   "outputs": [],
   "source": [
    "error = 'E2122'\n",
    "#affected fields\n",
    "indep = 'po_3_race'\n",
    "dep = 'po_3_race_pi_ff'\n",
    "\n",
    "for i,x in enumerate(dirty[indep]):\n",
    "    if '974' not in str(x):\n",
    "        dirty.loc[i,dep] = 'this shouldnt be here'\n",
    "    elif '974' in str(x):\n",
    "        dirty.loc[i,dep] = ''\n",
    "\n",
    "dirty.to_csv(path_to_multi_errors+error+'_sbl.csv')\n",
    "dirty = clean.copy()"
   ]
  },
  {
   "cell_type": "code",
   "execution_count": null,
   "metadata": {},
   "outputs": [],
   "source": [
    "error = 'E2123'\n",
    "#affected fields\n",
    "indep = 'po_4_race'\n",
    "dep = 'po_4_race_pi_ff'\n",
    "\n",
    "for i,x in enumerate(dirty[indep]):\n",
    "    if '974' not in str(x):\n",
    "        dirty.loc[i,dep] = 'this shouldnt be here'\n",
    "    elif '974' in str(x):\n",
    "        dirty.loc[i,dep] = ''\n",
    "\n",
    "dirty.to_csv(path_to_multi_errors+error+'_sbl.csv')\n",
    "dirty = clean.copy()"
   ]
  },
  {
   "cell_type": "code",
   "execution_count": null,
   "metadata": {},
   "outputs": [],
   "source": [
    "error = 'E2140'\n",
    "#affected fields\n",
    "indep = 'po_1_gender_flag'\n",
    "dep = 'po_1_gender_ff'\n",
    "\n",
    "for i,x in enumerate(dirty[indep]):\n",
    "    if '1' not in str(x):\n",
    "        dirty.loc[i,dep] = 'this shouldnt be here'\n",
    "    elif '1' in str(x):\n",
    "        dirty.loc[i,dep] = ''\n",
    "\n",
    "dirty.to_csv(path_to_multi_errors+error+'_sbl.csv')\n",
    "dirty = clean.copy()"
   ]
  },
  {
   "cell_type": "code",
   "execution_count": null,
   "metadata": {},
   "outputs": [],
   "source": [
    "error = 'E2141'\n",
    "#affected fields\n",
    "indep = 'po_2_gender_flag'\n",
    "dep = 'po_2_gender_ff'\n",
    "\n",
    "for i,x in enumerate(dirty[indep]):\n",
    "    if '1' not in str(x):\n",
    "        dirty.loc[i,dep] = 'this shouldnt be here'\n",
    "    elif '1' in str(x):\n",
    "        dirty.loc[i,dep] = ''\n",
    "\n",
    "dirty.to_csv(path_to_multi_errors+error+'_sbl.csv')\n",
    "dirty = clean.copy()"
   ]
  },
  {
   "cell_type": "code",
   "execution_count": null,
   "metadata": {},
   "outputs": [],
   "source": [
    "error = 'E2142'\n",
    "#affected fields\n",
    "indep = 'po_3_gender_flag'\n",
    "dep = 'po_3_gender_ff'\n",
    "\n",
    "for i,x in enumerate(dirty[indep]):\n",
    "    if '1' not in str(x):\n",
    "        dirty.loc[i,dep] = 'this shouldnt be here'\n",
    "    elif '1' in str(x):\n",
    "        dirty.loc[i,dep] = ''\n",
    "\n",
    "dirty.to_csv(path_to_multi_errors+error+'_sbl.csv')\n",
    "dirty = clean.copy()"
   ]
  },
  {
   "cell_type": "code",
   "execution_count": null,
   "metadata": {},
   "outputs": [],
   "source": [
    "error = 'E2143'\n",
    "#affected fields\n",
    "indep = 'po_4_gender_flag'\n",
    "dep = 'po_4_gender_ff'\n",
    "\n",
    "for i,x in enumerate(dirty[indep]):\n",
    "    if '1' not in str(x):\n",
    "        dirty.loc[i,dep] = 'this shouldnt be here'\n",
    "    elif '1' in str(x):\n",
    "        dirty.loc[i,dep] = ''\n",
    "\n",
    "dirty.to_csv(path_to_multi_errors+error+'_sbl.csv')\n",
    "dirty = clean.copy()"
   ]
  },
  {
   "cell_type": "code",
   "execution_count": null,
   "metadata": {},
   "outputs": [],
   "source": [
    "error = 'E3000'\n",
    "dirty['uid'] =  [\"1234567890128QWER34567\"]*(len(dirty))\n",
    "dirty.to_csv(path_to_single_errors+error+'_sbl.csv')\n",
    "\n",
    "dirty = clean.copy()"
   ]
  }
 ],
 "metadata": {
  "kernelspec": {
   "display_name": "citrus",
   "language": "python",
   "name": "python3"
  },
  "language_info": {
   "codemirror_mode": {
    "name": "ipython",
    "version": 3
   },
   "file_extension": ".py",
   "mimetype": "text/x-python",
   "name": "python",
   "nbconvert_exporter": "python",
   "pygments_lexer": "ipython3",
   "version": "3.10.6"
  }
 },
 "nbformat": 4,
 "nbformat_minor": 2
}
