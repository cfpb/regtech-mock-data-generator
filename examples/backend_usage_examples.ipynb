{
 "cells": [
  {
   "cell_type": "markdown",
   "metadata": {},
   "source": [
    "## Example Usage of Data Backends\n",
    "\n",
    "This notebook presents some examples of using the various data backends to produce mock data of different types with various statistical properties."
   ]
  },
  {
   "cell_type": "code",
   "execution_count": null,
   "metadata": {},
   "outputs": [],
   "source": [
    "from mock_data.backends import (\n",
    "    WeightedDiscrete,\n",
    "    BoundedNumerical,\n",
    "    BoundedDatetime,\n",
    "    LoremIpsumText,\n",
    ")\n",
    "import matplotlib.pyplot as plt\n",
    "import pandas as pd"
   ]
  },
  {
   "cell_type": "markdown",
   "metadata": {},
   "source": [
    "### Normal distribution between 0 and 10"
   ]
  },
  {
   "cell_type": "code",
   "execution_count": null,
   "metadata": {},
   "outputs": [],
   "source": [
    "cr = BoundedNumerical(distribution=\"norm\", lower_bound=0, upper_bound=10)\n",
    "cr_samples = cr.generate_samples(size=5000)\n",
    "\n",
    "plt.hist(cr_samples, bins=20)"
   ]
  },
  {
   "cell_type": "code",
   "execution_count": null,
   "metadata": {},
   "outputs": [],
   "source": [
    "from scipy.stats import kstest, norm, pearsonr\n",
    "import numpy as np"
   ]
  },
  {
   "cell_type": "code",
   "execution_count": null,
   "metadata": {},
   "outputs": [],
   "source": [
    "# this is similar to a Shapiro-Wilk test\n",
    "other_normal_samples = np.sort(norm.rvs(size=5000) - 43)\n",
    "pearsonr(np.sort(cr_samples), other_normal_samples)"
   ]
  },
  {
   "cell_type": "code",
   "execution_count": null,
   "metadata": {},
   "outputs": [],
   "source": [
    "type(other_normal_samples)"
   ]
  },
  {
   "cell_type": "code",
   "execution_count": null,
   "metadata": {},
   "outputs": [],
   "source": []
  },
  {
   "cell_type": "markdown",
   "metadata": {},
   "source": [
    "### Chi2 Distribution between -8 and 100 with 3 degrees of freedom"
   ]
  },
  {
   "cell_type": "code",
   "execution_count": null,
   "metadata": {},
   "outputs": [],
   "source": [
    "chi_squared = BoundedNumerical(\n",
    "    distribution=\"chi2\", lower_bound=-8, upper_bound=100, df=3\n",
    ")\n",
    "chi_squared_samples = chi_squared.generate_samples(size=5000)\n",
    "\n",
    "plt.hist(chi_squared_samples, bins=20)"
   ]
  },
  {
   "cell_type": "markdown",
   "metadata": {},
   "source": [
    "### Sample of Dates between 20200101 and 20201231 following an Arcsine distribution\n",
    "\n",
    "This distribution is described [here](https://docs.scipy.org/doc/scipy/reference/generated/scipy.stats.arcsine.html#scipy.stats.arcsine) and can be used to achieve high sampling frequency at both ends of the range. "
   ]
  },
  {
   "cell_type": "code",
   "execution_count": null,
   "metadata": {},
   "outputs": [],
   "source": [
    "date_sampler = BoundedDatetime(\n",
    "    min_datetime=\"20200101\", max_datetime=\"20201231\", distribution=\"arcsine\"\n",
    ")\n",
    "sampled_dates = date_sampler.generate_samples(size=1000)\n",
    "\n",
    "# convert to a Pandas series and plot the frequency of months\n",
    "pd.Series(pd.to_datetime(sampled_dates, format=\"%Y%m%d\")).dt.month.hist()"
   ]
  },
  {
   "cell_type": "markdown",
   "metadata": {},
   "source": [
    "### Lorem Ipsum text with length following a uniform distribution and 50% chance of being blank.\n",
    "\n",
    "The resultant distribution is interesting because approximately 50% of the samples have length 0 while the remainder are sampled from a uniform distribution between 50 and 500 characters in length."
   ]
  },
  {
   "cell_type": "code",
   "execution_count": null,
   "metadata": {},
   "outputs": [],
   "source": [
    "lorem = LoremIpsumText(lower_bound=50, upper_bound=500, blank_probability=0.5)\n",
    "text_samples = lorem.generate_samples(size=1000)\n",
    "\n",
    "sample_lengths = [len(text_sample) for text_sample in text_samples]\n",
    "\n",
    "plt.hist(sample_lengths, bins=20)"
   ]
  },
  {
   "cell_type": "markdown",
   "metadata": {},
   "source": [
    "### Utilize WeightedDiscrete to sample days of week with particular frequency\n",
    "\n",
    "We want Monday to be much more common than the other days. Here's how we could accomplish this. "
   ]
  },
  {
   "cell_type": "code",
   "execution_count": null,
   "metadata": {},
   "outputs": [],
   "source": [
    "weekday_sampler = WeightedDiscrete(\n",
    "    {\n",
    "        \"Monday\": 20,\n",
    "        \"Tuesday\": 1,\n",
    "        \"Wednesday\": 1,\n",
    "        \"Thursday\": 1,\n",
    "        \"Friday\": 1,\n",
    "        \"Saturday\": 1,\n",
    "        \"Sunday\": 1,\n",
    "    }\n",
    ")\n",
    "\n",
    "sampled_days = pd.Series(weekday_sampler.generate_samples(size=1000))\n",
    "\n",
    "sampled_days.groupby(sampled_days).count().plot(kind=\"bar\")"
   ]
  }
 ],
 "metadata": {
  "kernelspec": {
   "display_name": ".venv",
   "language": "python",
   "name": "python3"
  },
  "language_info": {
   "codemirror_mode": {
    "name": "ipython",
    "version": 3
   },
   "file_extension": ".py",
   "mimetype": "text/x-python",
   "name": "python",
   "nbconvert_exporter": "python",
   "pygments_lexer": "ipython3",
   "version": "3.13.4"
  },
  "orig_nbformat": 4
 },
 "nbformat": 4,
 "nbformat_minor": 2
}
